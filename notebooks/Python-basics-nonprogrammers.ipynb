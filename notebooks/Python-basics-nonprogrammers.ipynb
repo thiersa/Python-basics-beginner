{
 "cells": [
  {
   "cell_type": "markdown",
   "metadata": {
    "cell_style": "center",
    "slideshow": {
     "slide_type": "slide"
    }
   },
   "source": [
    "# Python basics for non-programmers\n",
    "\n",
    "1. Intro Python\n",
    "2. Installing Python\n",
    "3. Running Python\n",
    "4. Simple Data Types\n",
    "5. Container Data Types\n",
    "6. Flow Control\n",
    "7. String Methods\n",
    "8. Dictionaries\n",
    "9. Exceptions\n",
    "10. Working with Files\n",
    "11. Functions\n",
    "12. Modules"
   ]
  },
  {
   "cell_type": "markdown",
   "metadata": {
    "cell_style": "center",
    "slideshow": {
     "slide_type": "slide"
    }
   },
   "source": [
    "# Intro Python\n",
    "\n",
    "Python is a very powerful programming language\n",
    "* designed to create readable code\n",
    "* ecosystem covering many domains\n",
    "* very portable (Windows, UNIX/Linux, macOS, ...)\n",
    "* mixes well with other languages\n",
    "* easy to learn"
   ]
  },
  {
   "cell_type": "markdown",
   "metadata": {
    "cell_style": "center",
    "slideshow": {
     "slide_type": "slide"
    }
   },
   "source": [
    "## The Python lifecycle\n",
    "\n",
    "Python was developed at the CWI in Amsterdam (Guido van Rossum)\n",
    "\n",
    "* **1989**: Python version 1\n",
    "* **2000**: Python version 2\n",
    "* **2008**: Python version 3\n",
    "\n",
    "Python 2 and 3 are incompatible.\n",
    "\n",
    "As of 2020, Python 2 is no longer supported"
   ]
  },
  {
   "cell_type": "markdown",
   "metadata": {
    "slideshow": {
     "slide_type": "slide"
    }
   },
   "source": [
    "## Install Python\n",
    "\n",
    "* Installation from Python website (https://www.python.org/downloads/), or\n",
    "* Installation from your OS repository (e.g. Red Hat, SuSE, macOS), or\n",
    "* Installation from specific Python distribution (with many additional packages),<br>for example Anaconda."
   ]
  },
  {
   "cell_type": "markdown",
   "metadata": {
    "slideshow": {
     "slide_type": "subslide"
    }
   },
   "source": [
    "## Extend Python\n",
    "* General\n",
    "    - `pip` (\"Pip Installs Packages\") with repository https://pypi.python.org (> 0.2 million packages)\n",
    "* OS specific\n",
    "    - `yum` or `dnf` (Red Hat-like Linux systems)\n",
    "    - `apt` (Debian-like Linux system, like Ubuntu)\n",
    "    - `HomeBrew` (macOS)\n",
    "* Distribution specific, e.g.:\n",
    "    - `conda` (for Continuum's Anaconda)"
   ]
  },
  {
   "cell_type": "markdown",
   "metadata": {
    "slideshow": {
     "slide_type": "slide"
    }
   },
   "source": [
    "# Running a Python program\n",
    "\n",
    "* To execute a Python script, type `python` followed by the name of the script\n",
    "\n",
    "  ```\n",
    "    user@system:~$: python hello_world.py\n",
    "  ```\n",
    "  "
   ]
  },
  {
   "cell_type": "markdown",
   "metadata": {
    "slideshow": {
     "slide_type": "fragment"
    }
   },
   "source": [
    "* Use an editor like `notepad`, `vim`, `nano` or `Visual Studio Code` to create or modify the script\n",
    "\n",
    "  ```\n",
    "    user@system:~$: nano hello_world.py\n",
    "  ```\n",
    "  "
   ]
  },
  {
   "cell_type": "markdown",
   "metadata": {
    "slideshow": {
     "slide_type": "fragment"
    }
   },
   "source": [
    "* Python can also be used interactively - like a command shell\n",
    "\n",
    "  ```\n",
    "    user@system:~$: python\n",
    "    Python 3.7.7 (default, Mar 26 2020, 15:48:22) \n",
    "    [GCC 7.3.0] :: Anaconda, Inc. on linux\n",
    "    Type \"help\", \"copyright\", \"credits\" or \"license\" for more information.\n",
    "    >>> print('Hello, World!')\n",
    "    Hello, World!\n",
    "    >>> quit()\n",
    "  ```"
   ]
  },
  {
   "cell_type": "markdown",
   "metadata": {
    "slideshow": {
     "slide_type": "slide"
    }
   },
   "source": [
    "## Show me your data: the `print()` function\n",
    "Use the `print()` function to show output on the console.\n",
    "\n",
    "The obligatory \"*Hello World!*\" in Python code:"
   ]
  },
  {
   "cell_type": "code",
   "execution_count": 1,
   "metadata": {},
   "outputs": [],
   "source": [
    "print(\"Hello\")\n",
    "print(\"World!\")"
   ]
  },
  {
   "cell_type": "markdown",
   "metadata": {
    "slideshow": {
     "slide_type": "fragment"
    }
   },
   "source": [
    "- `print()` will show its arguments (the items between parentheses).\n",
    "\n",
    "- Notice, how your text is entered. Later we learn more on how to deal with text.\n",
    "\n",
    "- Each `print()` will automatically add a linefeed. You can override it e.g. with a space (\" \") like this:"
   ]
  },
  {
   "cell_type": "code",
   "execution_count": 2,
   "metadata": {},
   "outputs": [
    {
     "name": "stdout",
     "output_type": "stream",
     "text": [
      "Hello World!\n"
     ]
    }
   ],
   "source": [
    "print(\"Hello\", end=\" \")\n",
    "print(\"World!\")"
   ]
  },
  {
   "cell_type": "markdown",
   "metadata": {
    "slideshow": {
     "slide_type": "subslide"
    }
   },
   "source": [
    "## More on `print()`\n",
    "\n",
    "You don't need two `print()` statements to get the text `Hello World!` on the screen.\n",
    "\n",
    "Of course this is also possible:"
   ]
  },
  {
   "cell_type": "code",
   "execution_count": 3,
   "metadata": {
    "slideshow": {
     "slide_type": "-"
    }
   },
   "outputs": [
    {
     "name": "stdout",
     "output_type": "stream",
     "text": [
      "Hello World!\n"
     ]
    }
   ],
   "source": [
    "print(\"Hello World!\")"
   ]
  },
  {
   "cell_type": "markdown",
   "metadata": {
    "slideshow": {
     "slide_type": "fragment"
    }
   },
   "source": [
    "But you may even pass multiple arguments to `print()`:"
   ]
  },
  {
   "cell_type": "code",
   "execution_count": 4,
   "metadata": {
    "slideshow": {
     "slide_type": "-"
    }
   },
   "outputs": [
    {
     "name": "stdout",
     "output_type": "stream",
     "text": [
      "Hello World!\n"
     ]
    }
   ],
   "source": [
    "print(\"Hello\", \"World!\")"
   ]
  },
  {
   "cell_type": "markdown",
   "metadata": {
    "slideshow": {
     "slide_type": "fragment"
    }
   },
   "source": [
    "And they don't need to be text. Numbers (or anything else) are fine too:"
   ]
  },
  {
   "cell_type": "code",
   "execution_count": 5,
   "metadata": {
    "slideshow": {
     "slide_type": "-"
    }
   },
   "outputs": [
    {
     "name": "stdout",
     "output_type": "stream",
     "text": [
      "Hello 1 World!\n"
     ]
    }
   ],
   "source": [
    "print(\"Hello\", 1, \"World!\")"
   ]
  },
  {
   "cell_type": "markdown",
   "metadata": {
    "slideshow": {
     "slide_type": "slide"
    }
   },
   "source": [
    "## Lab exercises\n",
    "\n",
    "During this workshop, we will step-by-step create the program `report.py`<br>\n",
    "to totalize the revenue per employee from the data file `sales.csv`:\n",
    "\n",
    "  ```\n",
    "    user@system:~$: cat sales.csv\n",
    "    eric,324\n",
    "    john,116\n",
    "    eric,771\n",
    "    jane,893\n",
    "    john,162\n",
    "    boris,95\n",
    "  ```\n",
    "\n",
    "  ```\n",
    "    user@system:~$: python report.py\n",
    "    Report generated by John Doe\n",
    "    ----------------------------\n",
    "    Revenue of eric is 1095\n",
    "    Revenue of john is 278\n",
    "    Revenue of jane is 893\n",
    "    Revenue of boris is 95\n",
    "\n",
    "  ```"
   ]
  },
  {
   "cell_type": "markdown",
   "metadata": {
    "slideshow": {
     "slide_type": "slide"
    }
   },
   "source": [
    "## Lab exercise 1\n",
    "\n",
    "Modify the code block below in the file `report.py`.<br>\n",
    "To get used to the editor and the runtime environment, just add your own name to the string shown by `print()` and run the program."
   ]
  },
  {
   "cell_type": "code",
   "execution_count": 6,
   "metadata": {
    "slideshow": {
     "slide_type": "-"
    }
   },
   "outputs": [
    {
     "name": "stdout",
     "output_type": "stream",
     "text": [
      "Report generated by\n"
     ]
    }
   ],
   "source": [
    "sales = ['eric,324', 'john,116', 'eric,771', 'jane,893', 'john,162']\n",
    "\n",
    "print('Report generated by')"
   ]
  },
  {
   "cell_type": "markdown",
   "metadata": {
    "slideshow": {
     "slide_type": "subslide"
    }
   },
   "source": [
    "## Variables\n",
    "Python variables are strongly typed\n",
    "* no explicit type declaration\n",
    "* the assigned value determines the type"
   ]
  },
  {
   "cell_type": "code",
   "execution_count": 7,
   "metadata": {
    "slideshow": {
     "slide_type": "-"
    }
   },
   "outputs": [],
   "source": [
    "greet = \"Hello\"      # greet has type \"str\" (strings are for text)\n",
    "VAT = 21.0           # VAT has type \"float\" (floating point or real numbers)\n",
    "age = 16             # age has type \"int\" (for integer numbers)"
   ]
  },
  {
   "cell_type": "markdown",
   "metadata": {
    "slideshow": {
     "slide_type": "slide"
    }
   },
   "source": [
    "## Simple data types\n",
    "The basic data types are:\n",
    "- numbers:\n",
    "  - integer (`int`)\n",
    "  - real (`float`)\n",
    "  - complex numbers (`complex`)\n",
    "- text:\n",
    "  - Unicode strings (`str`)"
   ]
  },
  {
   "cell_type": "markdown",
   "metadata": {
    "slideshow": {
     "slide_type": "subslide"
    }
   },
   "source": [
    "### Numbers: `int`\n",
    "\n",
    "The numerical type for integer numbers is `int`.\n",
    "- Examples of integer numbers:"
   ]
  },
  {
   "cell_type": "code",
   "execution_count": 8,
   "metadata": {
    "cell_style": "split",
    "slideshow": {
     "slide_type": "-"
    }
   },
   "outputs": [
    {
     "name": "stdout",
     "output_type": "stream",
     "text": [
      "42\n"
     ]
    }
   ],
   "source": [
    "print(42)"
   ]
  },
  {
   "cell_type": "markdown",
   "metadata": {
    "cell_style": "center",
    "slideshow": {
     "slide_type": "fragment"
    }
   },
   "source": [
    "- Negative numbers:"
   ]
  },
  {
   "cell_type": "code",
   "execution_count": 9,
   "metadata": {
    "cell_style": "split",
    "slideshow": {
     "slide_type": "fragment"
    }
   },
   "outputs": [
    {
     "name": "stdout",
     "output_type": "stream",
     "text": [
      "-33\n"
     ]
    }
   ],
   "source": [
    "print(66-99)"
   ]
  },
  {
   "cell_type": "markdown",
   "metadata": {
    "slideshow": {
     "slide_type": "fragment"
    }
   },
   "source": [
    "- And huge numbers:"
   ]
  },
  {
   "cell_type": "code",
   "execution_count": 10,
   "metadata": {
    "slideshow": {
     "slide_type": "-"
    }
   },
   "outputs": [
    {
     "name": "stdout",
     "output_type": "stream",
     "text": [
      "115792089237316195423570985008687907853269984665640564039457584007913129639936\n"
     ]
    }
   ],
   "source": [
    "print(2**256)    # 2 to the power of 256"
   ]
  },
  {
   "cell_type": "markdown",
   "metadata": {
    "slideshow": {
     "slide_type": "-"
    }
   },
   "source": [
    "\n",
    "Note, that in Python there is no effective size limit for integer numbers."
   ]
  },
  {
   "cell_type": "markdown",
   "metadata": {
    "slideshow": {
     "slide_type": "subslide"
    }
   },
   "source": [
    "### Numbers: `float`\n",
    "\n",
    "The type for real numbers is `float`.<br/>\n",
    "Some real numbers:"
   ]
  },
  {
   "cell_type": "code",
   "execution_count": 11,
   "metadata": {
    "slideshow": {
     "slide_type": "-"
    }
   },
   "outputs": [
    {
     "name": "stdout",
     "output_type": "stream",
     "text": [
      "3.141592653589793\n"
     ]
    }
   ],
   "source": [
    "print(3.141592653589793)            # Pi"
   ]
  },
  {
   "cell_type": "code",
   "execution_count": 12,
   "metadata": {
    "slideshow": {
     "slide_type": "fragment"
    }
   },
   "outputs": [
    {
     "name": "stdout",
     "output_type": "stream",
     "text": [
      "6.022140857e+23\n"
     ]
    }
   ],
   "source": [
    "print(6.022140857e23)               # Avogadro"
   ]
  },
  {
   "cell_type": "markdown",
   "metadata": {
    "slideshow": {
     "slide_type": "slide"
    }
   },
   "source": [
    "### Text: `str`\n",
    "\n",
    "A string (type `str`) is a sequence of *Unicode*-characters.\n",
    "- between single (`'`) or double (`\"`) quotes (begin and end must match)"
   ]
  },
  {
   "cell_type": "code",
   "execution_count": 13,
   "metadata": {
    "slideshow": {
     "slide_type": "fragment"
    }
   },
   "outputs": [
    {
     "name": "stdout",
     "output_type": "stream",
     "text": [
      "Here's Python!\n"
     ]
    }
   ],
   "source": [
    "print(\"Here's Python!\")"
   ]
  },
  {
   "cell_type": "code",
   "execution_count": 14,
   "metadata": {
    "slideshow": {
     "slide_type": "fragment"
    }
   },
   "outputs": [
    {
     "name": "stdout",
     "output_type": "stream",
     "text": [
      "Inspired by \"Monty Python\"\n"
     ]
    }
   ],
   "source": [
    "print('Inspired by \"Monty Python\"')"
   ]
  },
  {
   "cell_type": "markdown",
   "metadata": {
    "slideshow": {
     "slide_type": "subslide"
    }
   },
   "source": [
    "### Strings and numbers are different!"
   ]
  },
  {
   "cell_type": "code",
   "execution_count": 15,
   "metadata": {},
   "outputs": [],
   "source": [
    "var1 =  123\n",
    "var2 = \"123\""
   ]
  },
  {
   "cell_type": "markdown",
   "metadata": {
    "slideshow": {
     "slide_type": "fragment"
    }
   },
   "source": [
    "`var1` and `var2` look very similar. When you print them, you will see the same output:"
   ]
  },
  {
   "cell_type": "code",
   "execution_count": 16,
   "metadata": {},
   "outputs": [
    {
     "name": "stdout",
     "output_type": "stream",
     "text": [
      "123\n",
      "123\n"
     ]
    }
   ],
   "source": [
    "print(var1)\n",
    "print(var2)"
   ]
  },
  {
   "cell_type": "markdown",
   "metadata": {
    "slideshow": {
     "slide_type": "fragment"
    }
   },
   "source": [
    "But, actually, they are different. E.g. look at the result when you add them:"
   ]
  },
  {
   "cell_type": "code",
   "execution_count": 17,
   "metadata": {},
   "outputs": [
    {
     "name": "stdout",
     "output_type": "stream",
     "text": [
      "246\n",
      "123123\n"
     ]
    }
   ],
   "source": [
    "print(var1 + var1)\n",
    "print(var2 + var2) "
   ]
  },
  {
   "cell_type": "markdown",
   "metadata": {
    "slideshow": {
     "slide_type": "fragment"
    }
   },
   "source": [
    "- `var2` is not automatically converted to a number when you add it to a number (this will fail!).\n",
    "- You can, however, use the `int()` function to do the conversion. So this is possible:"
   ]
  },
  {
   "cell_type": "code",
   "execution_count": 18,
   "metadata": {},
   "outputs": [
    {
     "name": "stdout",
     "output_type": "stream",
     "text": [
      "246\n"
     ]
    }
   ],
   "source": [
    "print(var1 + int(var2))"
   ]
  },
  {
   "cell_type": "markdown",
   "metadata": {
    "slideshow": {
     "slide_type": "slide"
    }
   },
   "source": [
    "## Lab exercise 2\n",
    "\n",
    "Modify the code block below in the file `report.py`.<br>\n",
    "Supply your name in the call to `print()` as a separate variable now."
   ]
  },
  {
   "cell_type": "code",
   "execution_count": 19,
   "metadata": {
    "slideshow": {
     "slide_type": "-"
    }
   },
   "outputs": [
    {
     "name": "stdout",
     "output_type": "stream",
     "text": [
      "Report generated by John Doe\n"
     ]
    }
   ],
   "source": [
    "sales = ['eric,324', 'john,116', 'eric,771', 'jane,893', 'john,162']\n",
    "\n",
    "print('Report generated by John Doe')"
   ]
  },
  {
   "cell_type": "markdown",
   "metadata": {
    "slideshow": {
     "slide_type": "slide"
    }
   },
   "source": [
    "## Indexing  and the `len()` function\n",
    "Python has an easy way to fetch a character from a string.\n",
    "- counting starts from 0"
   ]
  },
  {
   "cell_type": "code",
   "execution_count": 20,
   "metadata": {},
   "outputs": [
    {
     "name": "stdout",
     "output_type": "stream",
     "text": [
      "H\n",
      "W\n"
     ]
    }
   ],
   "source": [
    "greet = \"Hello World!\"\n",
    "print(greet[0])     # for the first character use index 0\n",
    "print(greet[6])"
   ]
  },
  {
   "cell_type": "markdown",
   "metadata": {
    "slideshow": {
     "slide_type": "subslide"
    }
   },
   "source": [
    "### Indexing using a negative number\n",
    "So Python starts counting from 0. How about the last character?"
   ]
  },
  {
   "cell_type": "markdown",
   "metadata": {
    "slideshow": {
     "slide_type": "fragment"
    }
   },
   "source": [
    "\n",
    "Well, you could find out what the length of the string is (with the function `len()`)\n",
    "and use the outcome to fetch the last character:"
   ]
  },
  {
   "cell_type": "code",
   "execution_count": 21,
   "metadata": {},
   "outputs": [
    {
     "name": "stdout",
     "output_type": "stream",
     "text": [
      "!\n"
     ]
    }
   ],
   "source": [
    "greet = \"Hello World!\"\n",
    "n = len(greet)\n",
    "print(greet[n-1])"
   ]
  },
  {
   "cell_type": "markdown",
   "metadata": {
    "slideshow": {
     "slide_type": "fragment"
    }
   },
   "source": [
    "There is an easier way: with a negative index you fetch backwards.<br>\n",
    "- -1 indexes the last character,\n",
    "- -2 next to the last character, etc."
   ]
  },
  {
   "cell_type": "code",
   "execution_count": 22,
   "metadata": {},
   "outputs": [
    {
     "name": "stdout",
     "output_type": "stream",
     "text": [
      "!\n"
     ]
    }
   ],
   "source": [
    "print(greet[-1])"
   ]
  },
  {
   "cell_type": "markdown",
   "metadata": {
    "slideshow": {
     "slide_type": "slide"
    }
   },
   "source": [
    "## Container structures\n",
    "Container types - objects that can contain other objects\n",
    "\n",
    "| type  | description |          examples              | content   | properties\n",
    "|:------|:------------|:-------------------------------|:----------|:---------\n",
    "| str   | String      | `'Ni Hao', \"Don't mind\"`       | chars     | immutable, ordered\n",
    "| list  | List        | `[1, 2, 'Peter', 4]`           | any       | mutable, ordered\n",
    "| tuple | Tuple       | `(1, 2, 'ABC', 4, 'U')`        | any       | immutable, ordered\n",
    "| dict  | Dictionary  | `{'John': 1975, 'Mary': 1979}` | any       | mutable, unordered, key-access\n"
   ]
  },
  {
   "cell_type": "markdown",
   "metadata": {
    "slideshow": {
     "slide_type": "subslide"
    }
   },
   "source": [
    "## `list` container type\n",
    "- mutable: replace, add or remove elements\n",
    "- can contain arbitrary objects\n",
    "- order is maintained\n",
    "- use an index to retrieve elements"
   ]
  },
  {
   "cell_type": "code",
   "execution_count": 23,
   "metadata": {
    "cell_style": "center",
    "slideshow": {
     "slide_type": "-"
    }
   },
   "outputs": [
    {
     "name": "stdout",
     "output_type": "stream",
     "text": [
      "3\n",
      "3.0\n"
     ]
    }
   ],
   "source": [
    "primes = [2, 3, 5, 7, 11, 13]   # create a list\n",
    "print(primes[1])                # retrieve the 2nd element\n",
    "primes[1] = 3.0                 # modify 2nd element (float)\n",
    "print(primes[1])\n",
    "primes[1] = 3"
   ]
  },
  {
   "cell_type": "markdown",
   "metadata": {
    "slideshow": {
     "slide_type": "slide"
    }
   },
   "source": [
    "### Methods for `list`"
   ]
  },
  {
   "cell_type": "markdown",
   "metadata": {},
   "source": [
    "We have seen a couple of built-in functions already: `print()`, `len()` and `int()`.\n",
    "\n",
    "These functions operate on the arguments you provide.\n",
    "\n",
    "In Python we also have *methods*.\n",
    "You call a method differently.<br>\n",
    "An example:"
   ]
  },
  {
   "cell_type": "code",
   "execution_count": 24,
   "metadata": {
    "slideshow": {
     "slide_type": "fragment"
    }
   },
   "outputs": [
    {
     "name": "stdout",
     "output_type": "stream",
     "text": [
      "[2, 3, 5, 7, 11, 13, 17]\n"
     ]
    }
   ],
   "source": [
    "primes = [2, 3, 5, 7, 11, 13]\n",
    "primes.append(17)                   # add 17 at the end of primes\n",
    "print(primes)"
   ]
  },
  {
   "cell_type": "markdown",
   "metadata": {
    "slideshow": {
     "slide_type": "fragment"
    }
   },
   "source": [
    "A method operates on the object that you reference *before* the method name.\n",
    "\n",
    "The method `.append()` adds a new object to the end of the list."
   ]
  },
  {
   "cell_type": "markdown",
   "metadata": {
    "slideshow": {
     "slide_type": "slide"
    }
   },
   "source": [
    "### Common `list` methods\n",
    "\n",
    "`.sort()` sorts the list in-place:"
   ]
  },
  {
   "cell_type": "code",
   "execution_count": 25,
   "metadata": {},
   "outputs": [
    {
     "name": "stdout",
     "output_type": "stream",
     "text": [
      "[-1, 1, 2, 3, 4, 66]\n"
     ]
    }
   ],
   "source": [
    "sample = [1, 4, 2, 66, 3, -1]\n",
    "sample.sort()\n",
    "print(sample)"
   ]
  },
  {
   "cell_type": "markdown",
   "metadata": {
    "slideshow": {
     "slide_type": "fragment"
    }
   },
   "source": [
    "`.reverse()` inverts the list"
   ]
  },
  {
   "cell_type": "code",
   "execution_count": 26,
   "metadata": {},
   "outputs": [
    {
     "name": "stdout",
     "output_type": "stream",
     "text": [
      "[66, 4, 3, 2, 1, -1]\n"
     ]
    }
   ],
   "source": [
    "sample.reverse()\n",
    "print(sample)"
   ]
  },
  {
   "cell_type": "markdown",
   "metadata": {
    "slideshow": {
     "slide_type": "-"
    }
   },
   "source": [
    "Many more methods are available for data type `list`.<br>\n",
    "Every data type has its own methods!"
   ]
  },
  {
   "cell_type": "markdown",
   "metadata": {
    "slideshow": {
     "slide_type": "slide"
    }
   },
   "source": [
    "## Lab exercise 3\n",
    "\n",
    "Modify the code block below in the file `report.py`.<br>\n",
    "The list `sales` is incomplete.\n",
    "Add the string `'boris,95'` to the list and print it."
   ]
  },
  {
   "cell_type": "code",
   "execution_count": 27,
   "metadata": {
    "slideshow": {
     "slide_type": "-"
    }
   },
   "outputs": [
    {
     "name": "stdout",
     "output_type": "stream",
     "text": [
      "Report generated by John Doe\n"
     ]
    }
   ],
   "source": [
    "sales = ['eric,324', 'john,116', 'eric,771', 'jane,893', 'john,162']\n",
    "\n",
    "myname = 'John Doe'\n",
    "print('Report generated by', myname)"
   ]
  },
  {
   "cell_type": "markdown",
   "metadata": {
    "slideshow": {
     "slide_type": "subslide"
    }
   },
   "source": [
    "# Flow control\n",
    "## Blocks\n",
    "\n",
    "Control flow statements (like `if` and `while`) require block definitions:<br>\n",
    "which statements belong to the control flow statement?\n",
    "\n",
    "Code blocks are determined by *indentation*.\n",
    "- Example `if` - statement:\n",
    "``` python\n",
    "    if a < b:\n",
    "        print(\"a is smaller than b\")\n",
    "        \n",
    "    print(\"this message is always given!\")\n",
    "```\n",
    "- recommended:\n",
    "  * use 4 spaces per indentation level"
   ]
  },
  {
   "cell_type": "markdown",
   "metadata": {
    "slideshow": {
     "slide_type": "slide"
    }
   },
   "source": [
    "### `if` - statement (simplest form)\n",
    "``` python\n",
    "    if condition:\n",
    "        code block\n",
    "```\n",
    "- the `condition`-part must be interpreted as True or False, and end with a colon (\"`:`\")\n",
    "- indented is the block of code executed if condition is True"
   ]
  },
  {
   "cell_type": "code",
   "execution_count": 28,
   "metadata": {
    "slideshow": {
     "slide_type": "fragment"
    }
   },
   "outputs": [],
   "source": [
    "temperature = 3\n",
    "if temperature < 0:\n",
    "    print(\"The water is solid\")"
   ]
  },
  {
   "cell_type": "markdown",
   "metadata": {
    "slideshow": {
     "slide_type": "subslide"
    }
   },
   "source": [
    "### `if` - statement (with an `else` part)\n",
    "``` python\n",
    "    if condition:\n",
    "        code block\n",
    "        \n",
    "    else:\n",
    "        code block\n",
    "        ....\n",
    "```\n",
    "- two blocks of code - only one of them is executed"
   ]
  },
  {
   "cell_type": "code",
   "execution_count": 29,
   "metadata": {
    "slideshow": {
     "slide_type": "fragment"
    }
   },
   "outputs": [
    {
     "name": "stdout",
     "output_type": "stream",
     "text": [
      "The water is not solid\n"
     ]
    }
   ],
   "source": [
    "temperature = 3\n",
    "if temperature < 0:\n",
    "    print(\"The water is solid\")\n",
    "else:\n",
    "    print(\"The water is not solid\")"
   ]
  },
  {
   "cell_type": "markdown",
   "metadata": {
    "slideshow": {
     "slide_type": "subslide"
    }
   },
   "source": [
    "### `if` - statement (with `else` and `elif`)\n",
    "``` python\n",
    "    if condition:\n",
    "        code block\n",
    "        \n",
    "    elif condition:\n",
    "        code block\n",
    "        \n",
    "    else:\n",
    "        code block\n",
    "        ....\n",
    "```\n",
    "- multiple blocks of code - only one of them is executed\n"
   ]
  },
  {
   "cell_type": "code",
   "execution_count": 30,
   "metadata": {
    "slideshow": {
     "slide_type": "fragment"
    }
   },
   "outputs": [
    {
     "name": "stdout",
     "output_type": "stream",
     "text": [
      "The water is liquid\n"
     ]
    }
   ],
   "source": [
    "temperature = 3\n",
    "if temperature < 0:\n",
    "    print(\"The water is solid\")\n",
    "elif temperature > 100:\n",
    "    print(\"The water is gas\")\n",
    "else:\n",
    "    print(\"The water is liquid\")"
   ]
  },
  {
   "cell_type": "markdown",
   "metadata": {
    "slideshow": {
     "slide_type": "subslide"
    }
   },
   "source": [
    "### `while` - loop\n",
    "``` python\n",
    "    while condition:\n",
    "        code block\n",
    "```\n",
    "As long as `condition` is True, the code block is executed."
   ]
  },
  {
   "cell_type": "code",
   "execution_count": 31,
   "metadata": {
    "slideshow": {
     "slide_type": "fragment"
    }
   },
   "outputs": [
    {
     "name": "stdout",
     "output_type": "stream",
     "text": [
      "1\n",
      "2\n",
      "3\n",
      "4\n"
     ]
    }
   ],
   "source": [
    "n = 1\n",
    "\n",
    "while n < 5:\n",
    "    print(n)\n",
    "    n = n + 1"
   ]
  },
  {
   "cell_type": "markdown",
   "metadata": {
    "slideshow": {
     "slide_type": "slide"
    }
   },
   "source": [
    "## Lab exercise 4\n",
    "\n",
    "Modify the code block below in the file `report.py`.<br>\n",
    "Underline the header line with '-' characters with exactly the\n",
    "size of the header line<br>(take 20 for the length of 'Report generated by ')."
   ]
  },
  {
   "cell_type": "code",
   "execution_count": 32,
   "metadata": {
    "slideshow": {
     "slide_type": "-"
    }
   },
   "outputs": [
    {
     "name": "stdout",
     "output_type": "stream",
     "text": [
      "Report generated by John Doe\n"
     ]
    }
   ],
   "source": [
    "sales = ['eric,324', 'john,116', 'eric,771', 'jane,893', 'john,162']\n",
    "sales.append('boris,95')\n",
    "\n",
    "myname = 'John Doe'\n",
    "print('Report generated by', myname)\n"
   ]
  },
  {
   "cell_type": "markdown",
   "metadata": {
    "slideshow": {
     "slide_type": "slide"
    }
   },
   "source": [
    "### `for`-loop\n",
    "Do something for all elements in a collection.\n",
    "``` python\n",
    "    for element in collection:\n",
    "        code block\n",
    "```\n",
    "The `for`-loop is used with all collection types.<br/>\n",
    "It works identical for all of them:\n"
   ]
  },
  {
   "cell_type": "code",
   "execution_count": 33,
   "metadata": {
    "slideshow": {
     "slide_type": "-"
    }
   },
   "outputs": [
    {
     "name": "stdout",
     "output_type": "stream",
     "text": [
      "1\n",
      "2\n",
      "4\n"
     ]
    }
   ],
   "source": [
    "l = [1, 2, 4]                             # list\n",
    "for elem in l:\n",
    "    print(elem)"
   ]
  },
  {
   "cell_type": "code",
   "execution_count": 34,
   "metadata": {
    "slideshow": {
     "slide_type": "fragment"
    }
   },
   "outputs": [
    {
     "name": "stdout",
     "output_type": "stream",
     "text": [
      "H\n",
      "e\n",
      "y\n"
     ]
    }
   ],
   "source": [
    "s = \"Hey\"                                 # string\n",
    "for elem in s:\n",
    "    print(elem)\n",
    "    "
   ]
  },
  {
   "cell_type": "markdown",
   "metadata": {
    "slideshow": {
     "slide_type": "slide"
    }
   },
   "source": [
    "### Using `range()` to generate a sequence of numbers\n",
    "\n",
    "Quite often you need to count up (or down).<br>\n",
    "You can use a `while`-loop to achieve that,<br>\n",
    "but `range()` in combination with a `for`-loop is easier (and more *Pythonic*).\n",
    "\n",
    "`range(stop)` with one argument means start from 0 (zero) and continue upto (not including) `stop`:\n"
   ]
  },
  {
   "cell_type": "code",
   "execution_count": 35,
   "metadata": {
    "slideshow": {
     "slide_type": "fragment"
    }
   },
   "outputs": [
    {
     "name": "stdout",
     "output_type": "stream",
     "text": [
      "0\n",
      "1\n",
      "2\n"
     ]
    }
   ],
   "source": [
    "for n in range(3):\n",
    "    print(n)"
   ]
  },
  {
   "cell_type": "markdown",
   "metadata": {
    "slideshow": {
     "slide_type": "fragment"
    }
   },
   "source": [
    "is similar to:"
   ]
  },
  {
   "cell_type": "code",
   "execution_count": 36,
   "metadata": {},
   "outputs": [
    {
     "name": "stdout",
     "output_type": "stream",
     "text": [
      "0\n",
      "1\n",
      "2\n"
     ]
    }
   ],
   "source": [
    "n=0\n",
    "while n < 3:\n",
    "    print(n)\n",
    "    n=n+1"
   ]
  },
  {
   "cell_type": "markdown",
   "metadata": {
    "slideshow": {
     "slide_type": "slide"
    }
   },
   "source": [
    "## Lab exercise 5\n",
    "\n",
    "Modify the code block below in the file `report.py`.<br>\n",
    "Print all elements of the list `sales` using a `for`-loop.\n",
    "What is the datatype of each element?"
   ]
  },
  {
   "cell_type": "code",
   "execution_count": 37,
   "metadata": {
    "slideshow": {
     "slide_type": "-"
    }
   },
   "outputs": [
    {
     "name": "stdout",
     "output_type": "stream",
     "text": [
      "Report generated by John Doe\n",
      "----------------------------\n"
     ]
    }
   ],
   "source": [
    "sales = ['eric,324', 'john,116', 'eric,771', 'jane,893', 'john,162']\n",
    "sales.append('boris,95')\n",
    "\n",
    "myname = 'John Doe'\n",
    "print('Report generated by', myname)\n",
    "\n",
    "headlen = 20 + len(myname)\n",
    "\n",
    "i = 0\n",
    "while i < headlen:\n",
    "     print('-', end='')\n",
    "     i = i + 1\n",
    "\n",
    "print()"
   ]
  },
  {
   "cell_type": "markdown",
   "metadata": {
    "slideshow": {
     "slide_type": "slide"
    }
   },
   "source": [
    "# `str`-methods\n",
    "- Methods are also used for text (type `str`)\n",
    "- `list` and `str` have different methods (methods are type-dependent)\n",
    "\n",
    "### Some common `str`-methods:\n",
    "`.upper()` and `.lower()`:\n"
   ]
  },
  {
   "cell_type": "code",
   "execution_count": 38,
   "metadata": {},
   "outputs": [
    {
     "name": "stdout",
     "output_type": "stream",
     "text": [
      "HELLO WORLD!\n",
      "hello world!\n"
     ]
    }
   ],
   "source": [
    "greet = \"Hello World!\"\n",
    "print(greet.upper())\n",
    "print(greet.lower())"
   ]
  },
  {
   "cell_type": "markdown",
   "metadata": {
    "slideshow": {
     "slide_type": "-"
    }
   },
   "source": [
    "`.split(sep)` splits a string into a list of words, default is to use whitespace as the split-locations"
   ]
  },
  {
   "cell_type": "code",
   "execution_count": 39,
   "metadata": {},
   "outputs": [
    {
     "name": "stdout",
     "output_type": "stream",
     "text": [
      "['Hello', 'World!']\n",
      "['Hell', ' W', 'rld!']\n"
     ]
    }
   ],
   "source": [
    "greet = \"Hello World!\"\n",
    "words = greet.split()\n",
    "print(words)\n",
    "\n",
    "parts = greet.split('o')\n",
    "print(parts)"
   ]
  },
  {
   "cell_type": "markdown",
   "metadata": {
    "slideshow": {
     "slide_type": "slide"
    }
   },
   "source": [
    "## Lab exercise 6\n",
    "\n",
    "Modify the code block below in the file `report.py`.<br>\n",
    "Print all elements of the list `sales` again,\n",
    "but now show the name and number of units separately.<br>\n",
    "Take care that we can do calculations with the number of units later on."
   ]
  },
  {
   "cell_type": "code",
   "execution_count": 40,
   "metadata": {
    "slideshow": {
     "slide_type": "-"
    }
   },
   "outputs": [
    {
     "name": "stdout",
     "output_type": "stream",
     "text": [
      "Report generated by John Doe\n",
      "----------------------------\n"
     ]
    }
   ],
   "source": [
    "sales = ['eric,324', 'john,116', 'eric,771', 'jane,893', 'john,162']\n",
    "sales.append('boris,95')\n",
    "\n",
    "myname = 'John Doe'\n",
    "print('Report generated by', myname)\n",
    "\n",
    "headlen = 20 + len(myname)\n",
    "\n",
    "i = 0\n",
    "while i < headlen:\n",
    "     print('-', end='')\n",
    "     i = i + 1\n",
    "\n",
    "print()\n",
    "\n",
    "for item in sales:\n",
    "    ...\n",
    "    # <print(item)>"
   ]
  },
  {
   "cell_type": "markdown",
   "metadata": {
    "slideshow": {
     "slide_type": "subslide"
    }
   },
   "source": [
    "## `dict` container type\n",
    "- mutable: replace, add or remove elements\n",
    "- can contain arbitrary objects\n",
    "- each element is stored with an associated uniq key\n",
    "- a single element can be retrieved with the key"
   ]
  },
  {
   "cell_type": "code",
   "execution_count": 41,
   "metadata": {
    "slideshow": {
     "slide_type": "fragment"
    }
   },
   "outputs": [
    {
     "name": "stdout",
     "output_type": "stream",
     "text": [
      "1973\n"
     ]
    }
   ],
   "source": [
    "d = {\"john\":1984, \"jane\":1973, \"eric\":1997}   # a dict with keys \"jon \"jane\" and \"eric\"\n",
    "print(d[\"jane\"])                              # retrieve the value from key \"jane\""
   ]
  },
  {
   "cell_type": "code",
   "execution_count": 42,
   "metadata": {
    "slideshow": {
     "slide_type": "fragment"
    }
   },
   "outputs": [
    {
     "name": "stdout",
     "output_type": "stream",
     "text": [
      "{'john': 1984, 'jane': 1974, 'eric': 1997, 'susan': 2001}\n"
     ]
    }
   ],
   "source": [
    "d[\"jane\"] = 1974                              # modify value related to existing key \"jane\"\n",
    "d[\"susan\"] = 2001                             # add new key \"susan\" with corresponding value\n",
    "print(d)"
   ]
  },
  {
   "cell_type": "markdown",
   "metadata": {
    "slideshow": {
     "slide_type": "subslide"
    }
   },
   "source": [
    "### `for`-loop and `dict`\n",
    "A `for`-loop on a dictionary, actually loops over the *keys*:"
   ]
  },
  {
   "cell_type": "code",
   "execution_count": 43,
   "metadata": {},
   "outputs": [
    {
     "name": "stdout",
     "output_type": "stream",
     "text": [
      "jan\n",
      "feb\n",
      "mar\n",
      "apr\n"
     ]
    }
   ],
   "source": [
    "rain = {'jan': 18, 'feb': 10, 'mar': 12, 'apr': 14}\n",
    "for month in rain:\n",
    "    print(month)"
   ]
  },
  {
   "cell_type": "markdown",
   "metadata": {
    "slideshow": {
     "slide_type": "fragment"
    }
   },
   "source": [
    "If you also want to show the values:"
   ]
  },
  {
   "cell_type": "code",
   "execution_count": 44,
   "metadata": {},
   "outputs": [
    {
     "name": "stdout",
     "output_type": "stream",
     "text": [
      "jan 18\n",
      "feb 10\n",
      "mar 12\n",
      "apr 14\n"
     ]
    }
   ],
   "source": [
    "for month in rain:\n",
    "    print(month, rain[month])"
   ]
  },
  {
   "cell_type": "markdown",
   "metadata": {
    "slideshow": {
     "slide_type": "slide"
    }
   },
   "source": [
    "## Lab exercise 7\n",
    "\n",
    "Modify the code block below in the file `report.py`.<br>\n",
    "Create an empty dictionary named `totals` and store the number of units for each employee.<br>\n",
    "Print the dictionary."
   ]
  },
  {
   "cell_type": "code",
   "execution_count": 45,
   "metadata": {
    "slideshow": {
     "slide_type": "-"
    }
   },
   "outputs": [
    {
     "name": "stdout",
     "output_type": "stream",
     "text": [
      "Report generated by John Doe\n",
      "----------------------------\n",
      "eric 324\n",
      "john 116\n",
      "eric 771\n",
      "jane 893\n",
      "john 162\n",
      "boris 95\n"
     ]
    }
   ],
   "source": [
    "sales = ['eric,324', 'john,116', 'eric,771', 'jane,893', 'john,162']\n",
    "sales.append('boris,95')\n",
    "\n",
    "myname = 'John Doe'\n",
    "print('Report generated by', myname)\n",
    "\n",
    "headlen = 20 + len(myname)\n",
    "\n",
    "i = 0\n",
    "while i < headlen:\n",
    "     print('-', end='')\n",
    "     i = i + 1\n",
    "\n",
    "print()\n",
    "\n",
    "for item in sales:\n",
    "     chops = item.split(',')\n",
    "     person = chops[0]       # variable 'person' preferred instead of chops[0]\n",
    "     units  = int(chops[1])  # variable 'units' is an integer\n",
    "     print(person, units)    # <-- remove this line"
   ]
  },
  {
   "cell_type": "markdown",
   "metadata": {
    "slideshow": {
     "slide_type": "subslide"
    }
   },
   "source": [
    "### Exceptions\n",
    "Errors that are not caught (more general: *Exceptions*) cause a program to crash.\n",
    "``` python\n",
    "    n_items = 0\n",
    "    print(5 / n_items)\n",
    "```\n",
    "```\n",
    "    ---------------------------------------------------------------------------\n",
    "    ZeroDivisionError                         Traceback (most recent call last)\n",
    "    <ipython-input-20-97156f842340> in <module>()\n",
    "          1 n_items = 0\n",
    "    ----> 2 print(5 / n_items)\n",
    "\n",
    "    ZeroDivisionError: division by zero\n",
    "```"
   ]
  },
  {
   "cell_type": "markdown",
   "metadata": {
    "slideshow": {
     "slide_type": "fragment"
    }
   },
   "source": [
    "- Of course, you can be defensive and check everything beforehand...\n",
    "- but there is a more convenient way..."
   ]
  },
  {
   "cell_type": "markdown",
   "metadata": {
    "slideshow": {
     "slide_type": "subslide"
    }
   },
   "source": [
    "### Catch exceptions `try: except:`"
   ]
  },
  {
   "cell_type": "code",
   "execution_count": 46,
   "metadata": {
    "slideshow": {
     "slide_type": "-"
    }
   },
   "outputs": [
    {
     "name": "stdout",
     "output_type": "stream",
     "text": [
      "There where no items\n",
      "This part is always reached\n"
     ]
    }
   ],
   "source": [
    "n_items = 0\n",
    "\n",
    "try:\n",
    "    print(5 / n_items)\n",
    "    print(\"Calculation is ready\")\n",
    "except Exception:\n",
    "    print(\"There where no items\")\n",
    "\n",
    "print(\"This part is always reached\")"
   ]
  },
  {
   "cell_type": "markdown",
   "metadata": {
    "slideshow": {
     "slide_type": "slide"
    }
   },
   "source": [
    "## Lab exercise 8\n",
    "\n",
    "Modify the code block below in the file `report.py`.<br>\n",
    "Add all units per person now. Notice that you can only add units to the value of an *existing* key, otherwise you will generate an exception. When an exception occurs during the addition (first time for each person), you can *assign* the value to the new key. "
   ]
  },
  {
   "cell_type": "code",
   "execution_count": 47,
   "metadata": {
    "slideshow": {
     "slide_type": "-"
    }
   },
   "outputs": [
    {
     "name": "stdout",
     "output_type": "stream",
     "text": [
      "Report generated by John Doe\n",
      "----------------------------\n",
      "Revenue of eric is 771\n",
      "Revenue of john is 162\n",
      "Revenue of jane is 893\n",
      "Revenue of boris is 95\n"
     ]
    }
   ],
   "source": [
    "sales = ['eric,324', 'john,116', 'eric,771', 'jane,893', 'john,162']\n",
    "sales.append('boris,95')\n",
    "\n",
    "myname = 'John Doe'\n",
    "print('Report generated by', myname)\n",
    "\n",
    "headlen = 20 + len(myname)\n",
    "\n",
    "i = 0\n",
    "while i < headlen:\n",
    "     print('-', end='')\n",
    "     i = i + 1\n",
    "print()\n",
    "\n",
    "totals = {}\n",
    "for item in sales:\n",
    "    chops = item.split(',')\n",
    "    person = chops[0]         # variable 'person' preferred instead of chops[0]\n",
    "    units  = int(chops[1])    # variable 'units' is an integer\n",
    "    totals[person] = units    # <---- add code here to have accumulated units\n",
    "\n",
    "for pers in totals:\n",
    "    print('Revenue of', pers, 'is', totals[pers])"
   ]
  },
  {
   "cell_type": "markdown",
   "metadata": {
    "slideshow": {
     "slide_type": "slide"
    }
   },
   "source": [
    "## File I/O\n",
    "### Opening a file\n",
    "``` python\n",
    "    f = open(fname, mode)\n",
    "```\n",
    "open modes:\n",
    "\n",
    "\n",
    "| Character\t| Description | Remark\n",
    "|-----------|-------------|-------------------------------------------------\n",
    "| '`r`'     | read        | (default) error if file does not exist\n",
    "| '`w`'     | write\t      | truncate the file, create a new one if necessary\n",
    "| '`a`'     | append      | create a new file if necessary\n",
    "\n",
    "can be combined with:\n",
    "\n",
    "| Character\t| Description | Remark\n",
    "|-----------|-------------|-------------------------------------------------\n",
    "| '`t`'     | text mode   | (default) uses strings (`\"...\"`)\n",
    "| '`b`'     | binary mode | uses `bytes` objects (`b\"...\"`)\n",
    "| '`+`'     | updating    | reading *and* writing\n"
   ]
  },
  {
   "cell_type": "markdown",
   "metadata": {
    "slideshow": {
     "slide_type": "subslide"
    }
   },
   "source": [
    "### Reading text files"
   ]
  },
  {
   "cell_type": "code",
   "execution_count": 48,
   "metadata": {
    "slideshow": {
     "slide_type": "-"
    }
   },
   "outputs": [
    {
     "name": "stdout",
     "output_type": "stream",
     "text": [
      "The number of lines in ../data/story.txt is 16\n"
     ]
    }
   ],
   "source": [
    "import sys\n",
    "\n",
    "fname = \"../data/story.txt\"\n",
    "\n",
    "try:\n",
    "    f = open(fname, \"rt\")              # open-call can fail, so ...\n",
    "except Exception:                      # always protect with try: except:\n",
    "    sys.exit(\"Cannot open \" + fname)   # exit with error message\n",
    "\n",
    "linecnt = 0\n",
    "\n",
    "for line in f:                         # file is like a sequence of lines: read line-by-line till end-of-file\n",
    "    linecnt = linecnt + 1              # count the number of lines in this file\n",
    "\n",
    "f.close()                              # don't forget to close the file\n",
    "\n",
    "print(\"The number of lines in\", fname, \"is\", linecnt)"
   ]
  },
  {
   "cell_type": "markdown",
   "metadata": {
    "slideshow": {
     "slide_type": "slide"
    }
   },
   "source": [
    "## Lab exercise 9\n",
    "\n",
    "Modify the code block below in the file `report.py`.<br>\n",
    "Remove the static *list* `sales`and use the file `sales.csv` in the directory to read the revenues."
   ]
  },
  {
   "cell_type": "code",
   "execution_count": 49,
   "metadata": {
    "slideshow": {
     "slide_type": "-"
    }
   },
   "outputs": [
    {
     "name": "stdout",
     "output_type": "stream",
     "text": [
      "Report generated by John Doe\n",
      "----------------------------\n",
      "Revenue of eric is 1095\n",
      "Revenue of john is 278\n",
      "Revenue of jane is 893\n",
      "Revenue of boris is 95\n"
     ]
    }
   ],
   "source": [
    "sales = ['eric,324', 'john,116', 'eric,771', 'jane,893', 'john,162']\n",
    "sales.append('boris,95')\n",
    "\n",
    "myname = 'John Doe'\n",
    "print('Report generated by', myname)\n",
    "\n",
    "headlen = 20 + len(myname)\n",
    "\n",
    "i = 0\n",
    "while i < headlen:\n",
    "     print('-', end='')\n",
    "     i = i + 1\n",
    "print()\n",
    "\n",
    "totals = {}\n",
    "for item in sales:\n",
    "    chops = item.split(',')\n",
    "    person = chops[0]         # variable 'person' preferred instead of chops[0]\n",
    "    units  = int(chops[1])    # variable 'units' is an integer\n",
    "    try:\n",
    "        totals[person] = totals[person] + units # fails with 1st reference\n",
    "    except Exception:\n",
    "        totals[person] = units                  # assignment if 1st reference\n",
    "\n",
    "for pers in totals:\n",
    "    print('Revenue of', pers, 'is', totals[pers])"
   ]
  },
  {
   "cell_type": "markdown",
   "metadata": {
    "slideshow": {
     "slide_type": "slide"
    }
   },
   "source": [
    "## Functions\n",
    "Define a function:\n"
   ]
  },
  {
   "cell_type": "code",
   "execution_count": 50,
   "metadata": {
    "slideshow": {
     "slide_type": "-"
    }
   },
   "outputs": [],
   "source": [
    "def power(base, exponent):\n",
    "    result = base ** exponent\n",
    "    return result"
   ]
  },
  {
   "cell_type": "markdown",
   "metadata": {
    "slideshow": {
     "slide_type": "fragment"
    }
   },
   "source": [
    "Use (call) a function:"
   ]
  },
  {
   "cell_type": "code",
   "execution_count": 51,
   "metadata": {
    "slideshow": {
     "slide_type": "-"
    }
   },
   "outputs": [
    {
     "name": "stdout",
     "output_type": "stream",
     "text": [
      "243\n"
     ]
    }
   ],
   "source": [
    "r = power(3, 5)\n",
    "print(r)"
   ]
  },
  {
   "cell_type": "markdown",
   "metadata": {
    "slideshow": {
     "slide_type": "slide"
    }
   },
   "source": [
    "### Function arguments\n",
    "\n",
    "Passing arguments to functions can be in 2 ways:\n",
    "- positional arguments\n",
    "- keyword arguments\n",
    "\n",
    "``` python\n",
    "def power(base, exponent)\n",
    "    result = base ** exponent\n",
    "    return result\n",
    "```\n",
    "Various ways to call:\n",
    "``` python\n",
    "r = power(16, 3)                  # positional arguments\n",
    "r = power(base=16, exponent=3)    # explicitly name (keyword) arguments\n",
    "r = power(exponent=3, base=16)    # not necessary to use them in order\n",
    "```\n",
    "Use good, descriptive names!   "
   ]
  },
  {
   "cell_type": "markdown",
   "metadata": {
    "slideshow": {
     "slide_type": "slide"
    }
   },
   "source": [
    "## Lab exercise 10\n",
    "\n",
    "Modify the code block below in the file `report.py`.<br>\n",
    "Also show the percentage of the total revenue for each person.\n",
    "For this purpose, create a function named `calcsum` to calculate the sum of all units in the dictionary that you pass as argument. The function `calcsum` should return the sum of all units to the caller, like this: `totunits = calcsum(totals)`"
   ]
  },
  {
   "cell_type": "code",
   "execution_count": 52,
   "metadata": {
    "slideshow": {
     "slide_type": "-"
    }
   },
   "outputs": [
    {
     "name": "stdout",
     "output_type": "stream",
     "text": [
      "Report generated by John Doe\n",
      "----------------------------\n",
      "Revenue of eric is 1095\n",
      "Revenue of john is 278\n",
      "Revenue of jane is 893\n",
      "Revenue of boris is 95\n"
     ]
    }
   ],
   "source": [
    "myname = 'John Doe'\n",
    "print('Report generated by', myname)\n",
    "\n",
    "headlen = 20 + len(myname)\n",
    "\n",
    "i = 0\n",
    "while i < headlen:\n",
    "     print('-', end='')\n",
    "     i = i + 1\n",
    "print()\n",
    "\n",
    "sales_f = open('../data/sales.csv', 'rt')          # use just 'sales.csv' in your own program!!\n",
    "\n",
    "totals = {}\n",
    "for item in sales_f:\n",
    "    chops = item.split(',')\n",
    "    person = chops[0]         # variable 'person' preferred instead of chops[0]\n",
    "    units  = int(chops[1])    # variable 'units' is an integer\n",
    "    try:\n",
    "        totals[person] = totals[person] + units    # fails with 1st reference to a person\n",
    "    except Exception:\n",
    "        totals[person] = units                     # assignment in case of 1st reference\n",
    "\n",
    "sales_f.close()\n",
    "\n",
    "for pers in totals:\n",
    "    print('Revenue of', pers, 'is', totals[pers])"
   ]
  },
  {
   "cell_type": "markdown",
   "metadata": {
    "slideshow": {
     "slide_type": "slide"
    }
   },
   "source": [
    "## Modules\n",
    "\n",
    "Modules allow for:\n",
    "- re-usage of functionality\n",
    "- ease of maintenance\n",
    "\n",
    "and usually contain:\n",
    "- function definitions\n",
    "- variables (often used as constants)\n",
    "- class definitions\n",
    "- *(can also contain runnable code)*"
   ]
  },
  {
   "cell_type": "markdown",
   "metadata": {
    "slideshow": {
     "slide_type": "subslide"
    }
   },
   "source": [
    "The name of a module file needs the suffix `.py`.\n",
    "\n",
    "Example `mymod.py`:\n",
    "``` python\n",
    "def power(base=10, exponent=2):\n",
    "    result = base ** exponent\n",
    "    return result\n",
    "```"
   ]
  },
  {
   "cell_type": "markdown",
   "metadata": {
    "slideshow": {
     "slide_type": "subslide"
    }
   },
   "source": [
    "### Using functions from a module\n",
    "#### the `import` statement\n",
    "``` python\n",
    "import mymod\n",
    "\n",
    "res = mymod.power(3, 10)\n",
    "```\n",
    "\n",
    "#### alternative: the `from` ... `import` statement\n",
    "``` python\n",
    "from mymod import power\n",
    "\n",
    "res = power(3, 10)\n",
    "```\n",
    "In this case you only select the function(s) you need."
   ]
  },
  {
   "cell_type": "markdown",
   "metadata": {
    "slideshow": {
     "slide_type": "slide"
    }
   },
   "source": [
    "## Lab exercise 11\n",
    "\n",
    "Modify the code block below in the file `report.py`.<br>\n",
    "Take out the function `calcsum()` from the file `report.py` and put it in a new module file, named `calc.py`.<br>\n",
    "Modify the code in the file `report.py` to import this module and use the function."
   ]
  },
  {
   "cell_type": "code",
   "execution_count": 53,
   "metadata": {
    "slideshow": {
     "slide_type": "-"
    }
   },
   "outputs": [
    {
     "name": "stdout",
     "output_type": "stream",
     "text": [
      "Report generated by John Doe\n",
      "----------------------------\n",
      "Revenue of eric is 1095 - percentage: 46.37865311308767\n",
      "Revenue of john is 278 - percentage: 11.774671749258788\n",
      "Revenue of jane is 893 - percentage: 37.82295637441762\n",
      "Revenue of boris is 95 - percentage: 4.023718763235917\n"
     ]
    }
   ],
   "source": [
    "def calcsum(dictunit):\n",
    "     tot = 0\n",
    "     for p in dictunit:\n",
    "         tot = tot + dictunit[p]\n",
    "     return tot\n",
    "\n",
    "\n",
    "myname = 'John Doe'\n",
    "print('Report generated by', myname)\n",
    "\n",
    "headlen = 20 + len(myname)\n",
    "\n",
    "i = 0\n",
    "while i < headlen:\n",
    "     print('-', end='')\n",
    "     i = i + 1\n",
    "print()\n",
    "\n",
    "sales_f = open('../data/sales.csv', 'rt')       # use just 'sales.csv' in your own program!!\n",
    " \n",
    "totals = {}\n",
    "for item in sales_f:\n",
    "    chops = item.split(',')\n",
    "    person = chops[0]         # variable 'person' preferred instead of chops[0]\n",
    "    units  = int(chops[1])    # variable 'units' is an integer\n",
    "    try:\n",
    "        totals[person] = totals[person] + units # fails with 1st reference to a person\n",
    "    except Exception:\n",
    "        totals[person] = units                  # assignment in case of 1st reference\n",
    "\n",
    "sales_f.close\n",
    "\n",
    "totunits = calcsum(totals)\n",
    "\n",
    "for pers in totals:\n",
    "     print('Revenue of', pers, 'is', totals[pers], '- percentage:',\n",
    "           totals[pers] * 100 / totunits)"
   ]
  },
  {
   "cell_type": "code",
   "execution_count": null,
   "metadata": {
    "slideshow": {
     "slide_type": "slide"
    }
   },
   "outputs": [],
   "source": []
  }
 ],
 "metadata": {
  "celltoolbar": "Slideshow",
  "kernelspec": {
   "display_name": "Python 3",
   "language": "python",
   "name": "python3"
  },
  "language_info": {
   "codemirror_mode": {
    "name": "ipython",
    "version": 3
   },
   "file_extension": ".py",
   "mimetype": "text/x-python",
   "name": "python",
   "nbconvert_exporter": "python",
   "pygments_lexer": "ipython3",
   "version": "3.7.7"
  },
  "livereveal": {
   "autolaunch": true,
   "enable_chalkboard": true,
   "overlay": "<div class='atfooter'><p>v0.1[ch02]</p></div><div class='atheader'><h2>Python Basics</h2></div><div><hr class='footerline'/></div><div class='footerlogo'><img src='ATlogo_simpel.svg' alt='at computing'></div>"
  },
  "name": "_merged"
 },
 "nbformat": 4,
 "nbformat_minor": 2
}
