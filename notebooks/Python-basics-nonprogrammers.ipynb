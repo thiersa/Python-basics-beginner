{
 "cells": [
  {
   "cell_type": "markdown",
   "metadata": {
    "slideshow": {
     "slide_type": "slide"
    }
   },
   "source": [
    "# Python basics for non-programmers\n",
    "\n",
    "1. Intro Python\n",
    "2. Installing Python\n",
    "3. Running Python\n",
    "4. Simple Data Types\n",
    "5. Container Data Types\n",
    "6. Flow Control\n",
    "7. String Methods\n",
    "8. Dictionaries\n",
    "9. Exceptions\n",
    "10. Working with Files\n",
    "11. Functions\n",
    "12. Modules"
   ]
  },
  {
   "cell_type": "markdown",
   "metadata": {
    "slideshow": {
     "slide_type": "slide"
    }
   },
   "source": [
    "# Intro Python\n",
    "\n",
    "Python is a very powerful programming language\n",
    "* designed to create readable code\n",
    "* a very ecosystem covering many domains\n",
    "* very portable (Windows, UNIX/Linux, macOS, ...)\n",
    "* mixes well with other languages\n",
    "* easy to learn\n",
    "* two versions:\n",
    "  - Python 2 still being used, but not supported\n",
    "  - Python 3"
   ]
  },
  {
   "cell_type": "markdown",
   "metadata": {
    "slideshow": {
     "slide_type": "slide"
    }
   },
   "source": [
    "## The Python lifecycle\n",
    "\n",
    "* **1989**: Python version 1\n",
    "* **2000**: Python version 2\n",
    "* **2008**: Python version 3\n",
    "\n",
    "\n",
    "The latest major release is 3.8.\n",
    "\n",
    "Python 2 and 3 are  incompatible.\n",
    "\n",
    "As of 2020, Python 2 is no longer supported"
   ]
  },
  {
   "cell_type": "markdown",
   "metadata": {
    "slideshow": {
     "slide_type": "subslide"
    }
   },
   "source": [
    "* Python was inspired by the computer language *ABC*\n",
    "* developed at the CWI\n",
    "* a tool to teach students how to program.\n",
    "\n",
    "The creator of Python is Guido van Rossum.\n",
    "He voluntarily gave up his title `Benovolent Dictator For Life` (**BDFL**).\n",
    "\n",
    "The Python Consortium now has a chosen committee that decides on new features to the Python\n",
    "language and its standard library."
   ]
  },
  {
   "cell_type": "markdown",
   "metadata": {
    "slideshow": {
     "slide_type": "slide"
    }
   },
   "source": [
    "## Install Python\n",
    "\n",
    "* Basic installation (pre-packaged from https://www.python.org/downloads/), or\n",
    "* Available from your OS (bijv. Red Hat, SuSE, macOS)\n",
    "* Python distribution (add many additional packages to standard Python), for example Anaconda."
   ]
  },
  {
   "cell_type": "markdown",
   "metadata": {
    "slideshow": {
     "slide_type": "subslide"
    }
   },
   "source": [
    "## Extend Python\n",
    "* `pip` (\"Pip Installs Packages\")\n",
    "    - standard tool, repository: Python Package Index (PyPI, > 0.2 million packages)\n",
    "* OS specific\n",
    "    - `yum` (Red Hat-like Linux systems, also SuSE)\n",
    "    - `apt` (Debian-like Linux system, like Ubuntu)\n",
    "    - `HomeBrew` (macOS)\n",
    "* Distribution specific, e.g.:\n",
    "    - `conda` (for Continuum's Anaconda)"
   ]
  },
  {
   "cell_type": "markdown",
   "metadata": {
    "slideshow": {
     "slide_type": "slide"
    }
   },
   "source": [
    "# Running a Python program\n",
    "* To execute a python script, type `python` followed by the name of the script\n",
    "\n",
    "  ```\n",
    "    user@system:~$: python hello_world.py\n",
    "  ```\n",
    "  "
   ]
  },
  {
   "cell_type": "markdown",
   "metadata": {
    "slideshow": {
     "slide_type": "fragment"
    }
   },
   "source": [
    "* Use an editor like `notepad`, `vim`, `nano` or `Visual Studio Code` to create or modify the script\n",
    "\n",
    "  ```\n",
    "    user@system:~$: nano hello_world.py\n",
    "  ```\n",
    "  "
   ]
  },
  {
   "cell_type": "markdown",
   "metadata": {
    "slideshow": {
     "slide_type": "fragment"
    }
   },
   "source": [
    "* Python can also be used interactively - like a command shell\n",
    "\n",
    "  ```\n",
    "    user@system:~$: python\n",
    "    Python 3.7.7 (default, Mar 26 2020, 15:48:22) \n",
    "    [GCC 7.3.0] :: Anaconda, Inc. on linux\n",
    "    Type \"help\", \"copyright\", \"credits\" or \"license\" for more information.\n",
    "    >>> print('Hello, World!')\n",
    "    Hello, World!\n",
    "    >>> quit()\n",
    "  ```"
   ]
  },
  {
   "cell_type": "markdown",
   "metadata": {
    "slideshow": {
     "slide_type": "slide"
    }
   },
   "source": [
    "## Show me your data: the `print()` function\n",
    "Use the `print()` function to show output on the console.\n",
    "\n",
    "The obligatory \"*Hello World!*\" in Python code:"
   ]
  },
  {
   "cell_type": "code",
   "execution_count": 1,
   "metadata": {},
   "outputs": [
    {
     "name": "stdout",
     "output_type": "stream",
     "text": [
      "Hello\n",
      "World!\n"
     ]
    }
   ],
   "source": [
    "print(\"Hello\")\n",
    "print(\"World!\")"
   ]
  },
  {
   "cell_type": "markdown",
   "metadata": {
    "slideshow": {
     "slide_type": "fragment"
    }
   },
   "source": [
    "- `print()` will print its arguments (the items between parentheses).\n",
    "\n",
    "- Notice, how your text is entered. Later we learn more on how to deal with text.\n",
    "\n",
    "- Each `print()` will automatically add a linefeed. You can override it e.g. with a space (\" \") like this:"
   ]
  },
  {
   "cell_type": "code",
   "execution_count": 2,
   "metadata": {},
   "outputs": [
    {
     "name": "stdout",
     "output_type": "stream",
     "text": [
      "Hello World!\n"
     ]
    }
   ],
   "source": [
    "print(\"Hello\", end=\" \")\n",
    "print(\"World!\")"
   ]
  },
  {
   "cell_type": "markdown",
   "metadata": {
    "slideshow": {
     "slide_type": "subslide"
    }
   },
   "source": [
    "## More on `print()`\n",
    "\n",
    "You don't need two `print()` statements to get the text `Hello World!` on the screen.\n",
    "\n",
    "Of course this is also possible:"
   ]
  },
  {
   "cell_type": "code",
   "execution_count": 3,
   "metadata": {
    "slideshow": {
     "slide_type": "-"
    }
   },
   "outputs": [
    {
     "name": "stdout",
     "output_type": "stream",
     "text": [
      "Hello World!\n"
     ]
    }
   ],
   "source": [
    "print(\"Hello World!\")"
   ]
  },
  {
   "cell_type": "markdown",
   "metadata": {
    "slideshow": {
     "slide_type": "fragment"
    }
   },
   "source": [
    "But you may even pass multiple arguments to `print()`:"
   ]
  },
  {
   "cell_type": "code",
   "execution_count": 4,
   "metadata": {
    "slideshow": {
     "slide_type": "-"
    }
   },
   "outputs": [
    {
     "name": "stdout",
     "output_type": "stream",
     "text": [
      "Hello World!\n"
     ]
    }
   ],
   "source": [
    "print(\"Hello\", \"World!\")"
   ]
  },
  {
   "cell_type": "markdown",
   "metadata": {
    "slideshow": {
     "slide_type": "fragment"
    }
   },
   "source": [
    "And they don't need to be text. Numbers (or anything else) are fine too:"
   ]
  },
  {
   "cell_type": "code",
   "execution_count": 5,
   "metadata": {
    "slideshow": {
     "slide_type": "-"
    }
   },
   "outputs": [
    {
     "name": "stdout",
     "output_type": "stream",
     "text": [
      "Hello 1 World!\n"
     ]
    }
   ],
   "source": [
    "print(\"Hello\", 1, \"World!\")"
   ]
  },
  {
   "cell_type": "markdown",
   "metadata": {
    "slideshow": {
     "slide_type": "slide"
    }
   },
   "source": [
    "## Lab exercise 1\n",
    "\n",
    "Modify the code block below.<br>\n",
    "Call `print()` with your name included."
   ]
  },
  {
   "cell_type": "code",
   "execution_count": 6,
   "metadata": {
    "slideshow": {
     "slide_type": "-"
    }
   },
   "outputs": [
    {
     "name": "stdout",
     "output_type": "stream",
     "text": [
      "Report generated by\n"
     ]
    }
   ],
   "source": [
    "sales = ['eric,324', 'john,116', 'eric,771', 'jane,893', 'john,162']\n",
    "\n",
    "print('Report generated by')"
   ]
  },
  {
   "cell_type": "markdown",
   "metadata": {
    "slideshow": {
     "slide_type": "subslide"
    }
   },
   "source": [
    "## Variables\n",
    "Python variables are strongly typed\n",
    "* no explicit type declaration\n",
    "* the assigned value determines the type"
   ]
  },
  {
   "cell_type": "code",
   "execution_count": 7,
   "metadata": {
    "slideshow": {
     "slide_type": "-"
    }
   },
   "outputs": [],
   "source": [
    "greet = \"Hello\"      # greet has type \"str\" (strings are for text)\n",
    "VAT = 21.0           # VAT has type \"float\" (floating point or real numbers)\n",
    "age = 16             # age has type \"int\" (for integer numbers)"
   ]
  },
  {
   "cell_type": "markdown",
   "metadata": {
    "slideshow": {
     "slide_type": "fragment"
    }
   },
   "source": [
    "#### Names of variables\n",
    "* consist of letters, numbers and underscores (`_`), but may not start with a digit\n",
    "* are case sensitive\n",
    "* some words, such as\n",
    "    `if`, `for`, `with` and `in`, are not allowed"
   ]
  },
  {
   "cell_type": "markdown",
   "metadata": {
    "slideshow": {
     "slide_type": "slide"
    }
   },
   "source": [
    "## Simple data types\n",
    "The basic data types are:\n",
    "- numbers:\n",
    "  - integer (`int`)\n",
    "  - real (`float`)\n",
    "  - complex numbers (`complex`)\n",
    "\n",
    "- text:  Unicode strings (`str`)"
   ]
  },
  {
   "cell_type": "markdown",
   "metadata": {
    "slideshow": {
     "slide_type": "subslide"
    }
   },
   "source": [
    "### Numbers: `int`\n",
    "\n",
    "The numerical type for integer numbers is `int`.\n",
    "\n",
    "Examples of integer numbers:"
   ]
  },
  {
   "cell_type": "code",
   "execution_count": 8,
   "metadata": {
    "slideshow": {
     "slide_type": "fragment"
    }
   },
   "outputs": [
    {
     "name": "stdout",
     "output_type": "stream",
     "text": [
      "42\n"
     ]
    }
   ],
   "source": [
    "print(42)"
   ]
  },
  {
   "cell_type": "markdown",
   "metadata": {
    "slideshow": {
     "slide_type": "fragment"
    }
   },
   "source": [
    "Negative numbers:"
   ]
  },
  {
   "cell_type": "code",
   "execution_count": 9,
   "metadata": {},
   "outputs": [
    {
     "name": "stdout",
     "output_type": "stream",
     "text": [
      "-33\n"
     ]
    }
   ],
   "source": [
    "print(-33)"
   ]
  },
  {
   "cell_type": "markdown",
   "metadata": {
    "slideshow": {
     "slide_type": "fragment"
    }
   },
   "source": [
    "And huge numbers:"
   ]
  },
  {
   "cell_type": "code",
   "execution_count": 10,
   "metadata": {
    "slideshow": {
     "slide_type": "-"
    }
   },
   "outputs": [
    {
     "name": "stdout",
     "output_type": "stream",
     "text": [
      "71377890781780978234780923417897137789078178097823478092341789\n"
     ]
    }
   ],
   "source": [
    "print(71377890781780978234780923417897137789078178097823478092341789)"
   ]
  },
  {
   "cell_type": "markdown",
   "metadata": {
    "slideshow": {
     "slide_type": "-"
    }
   },
   "source": [
    "\n",
    "Note, that in Python there is no effective size limit for integer numbers."
   ]
  },
  {
   "cell_type": "markdown",
   "metadata": {
    "slideshow": {
     "slide_type": "subslide"
    }
   },
   "source": [
    "### Numbers: `float`\n",
    "\n",
    "The type for real numbers is `float`.<br/>\n",
    "Some real numbers:"
   ]
  },
  {
   "cell_type": "code",
   "execution_count": 11,
   "metadata": {
    "slideshow": {
     "slide_type": "-"
    }
   },
   "outputs": [
    {
     "name": "stdout",
     "output_type": "stream",
     "text": [
      "3.141592653589793\n"
     ]
    }
   ],
   "source": [
    "print(3.141592653589793)            # Pi"
   ]
  },
  {
   "cell_type": "code",
   "execution_count": 12,
   "metadata": {
    "slideshow": {
     "slide_type": "fragment"
    }
   },
   "outputs": [
    {
     "name": "stdout",
     "output_type": "stream",
     "text": [
      "6.022140857e+23\n"
     ]
    }
   ],
   "source": [
    "print(6.022140857e23)               # Avogadro"
   ]
  },
  {
   "cell_type": "code",
   "execution_count": 13,
   "metadata": {
    "slideshow": {
     "slide_type": "fragment"
    }
   },
   "outputs": [
    {
     "name": "stdout",
     "output_type": "stream",
     "text": [
      "1e+100\n"
     ]
    }
   ],
   "source": [
    "print(10.0 ** 100)                  # Googol"
   ]
  },
  {
   "cell_type": "markdown",
   "metadata": {
    "slideshow": {
     "slide_type": "slide"
    }
   },
   "source": [
    "### Text: `str`\n",
    "\n",
    "A string (type `str`) is a sequence of *Unicode*-characters.\n",
    "- between single (`'`) or double (`\"`) quotes (begin and end must match)"
   ]
  },
  {
   "cell_type": "code",
   "execution_count": 14,
   "metadata": {
    "slideshow": {
     "slide_type": "fragment"
    }
   },
   "outputs": [
    {
     "name": "stdout",
     "output_type": "stream",
     "text": [
      "Here's Python!\n"
     ]
    }
   ],
   "source": [
    "print(\"Here's Python!\")"
   ]
  },
  {
   "cell_type": "code",
   "execution_count": 15,
   "metadata": {
    "slideshow": {
     "slide_type": "fragment"
    }
   },
   "outputs": [
    {
     "name": "stdout",
     "output_type": "stream",
     "text": [
      "Inspired by \"Monty Python\"\n"
     ]
    }
   ],
   "source": [
    "print('Inspired by \"Monty Python\"')"
   ]
  },
  {
   "cell_type": "markdown",
   "metadata": {
    "slideshow": {
     "slide_type": "fragment"
    }
   },
   "source": [
    "- backslash (`\\`) starts an escape code for special characters:"
   ]
  },
  {
   "cell_type": "code",
   "execution_count": 16,
   "metadata": {
    "slideshow": {
     "slide_type": "-"
    }
   },
   "outputs": [
    {
     "name": "stdout",
     "output_type": "stream",
     "text": [
      "characters like \t, \\, \n",
      " and \"it costs €98,-\"\n"
     ]
    }
   ],
   "source": [
    "print(\"characters like \\t, \\\\, \\n and \\\"it costs \\u20ac98,-\\\"\")"
   ]
  },
  {
   "cell_type": "markdown",
   "metadata": {
    "slideshow": {
     "slide_type": "-"
    }
   },
   "source": [
    "\"`\\t`\" is a TAB, \"`\\\\`\" is a literal \\ and \"`\\n`\" is a linefeed.\n",
    "    \n",
    "\"`\\uxxxx`\" creates a Unicode character, `xxxx` is the index (\"`\\u20ac`\" denotes the Euro sign (€))."
   ]
  },
  {
   "cell_type": "markdown",
   "metadata": {
    "slideshow": {
     "slide_type": "subslide"
    }
   },
   "source": [
    "### strings and numbers are different!"
   ]
  },
  {
   "cell_type": "code",
   "execution_count": 17,
   "metadata": {},
   "outputs": [],
   "source": [
    "var1 =  123\n",
    "var2 = \"123\""
   ]
  },
  {
   "cell_type": "markdown",
   "metadata": {
    "slideshow": {
     "slide_type": "fragment"
    }
   },
   "source": [
    "`var1` and `var2` look very similar. When you print them, you will see the same output:"
   ]
  },
  {
   "cell_type": "code",
   "execution_count": 18,
   "metadata": {},
   "outputs": [
    {
     "name": "stdout",
     "output_type": "stream",
     "text": [
      "123\n",
      "123\n"
     ]
    }
   ],
   "source": [
    "print(var1)\n",
    "print(var2)"
   ]
  },
  {
   "cell_type": "markdown",
   "metadata": {
    "slideshow": {
     "slide_type": "fragment"
    }
   },
   "source": [
    "But, actually, they are different. E.g. look at the result when you add them:"
   ]
  },
  {
   "cell_type": "code",
   "execution_count": 19,
   "metadata": {},
   "outputs": [
    {
     "name": "stdout",
     "output_type": "stream",
     "text": [
      "246\n",
      "123123\n"
     ]
    }
   ],
   "source": [
    "print(var1 + var1)\n",
    "print(var2 + var2) "
   ]
  },
  {
   "cell_type": "markdown",
   "metadata": {
    "slideshow": {
     "slide_type": "fragment"
    }
   },
   "source": [
    "- `var2` looks like a number, but it is not automatically converted when you add it to a number (this will fail!).\n",
    "\n",
    "- You can, however, use the `int()` function to do the conversion. So this is possible:"
   ]
  },
  {
   "cell_type": "code",
   "execution_count": 20,
   "metadata": {},
   "outputs": [
    {
     "name": "stdout",
     "output_type": "stream",
     "text": [
      "246\n"
     ]
    }
   ],
   "source": [
    "print(var1 + int(var2))"
   ]
  },
  {
   "cell_type": "markdown",
   "metadata": {
    "slideshow": {
     "slide_type": "slide"
    }
   },
   "source": [
    "## Lab exercise 2\n",
    "\n",
    "Modify the code block below.<br>\n",
    "Add your name in the call to `print()` with a separate variable."
   ]
  },
  {
   "cell_type": "code",
   "execution_count": 21,
   "metadata": {
    "slideshow": {
     "slide_type": "-"
    }
   },
   "outputs": [
    {
     "name": "stdout",
     "output_type": "stream",
     "text": [
      "Report generated by\n"
     ]
    }
   ],
   "source": [
    "sales = ['eric,324', 'john,116', 'eric,771', 'jane,893', 'john,162']\n",
    "\n",
    "print('Report generated by')"
   ]
  },
  {
   "cell_type": "markdown",
   "metadata": {
    "slideshow": {
     "slide_type": "slide"
    }
   },
   "source": [
    "## Indexing  and the `len()` function\n",
    "Python has an easy way to fetch a character from a string.\n",
    "- counting starts from 0"
   ]
  },
  {
   "cell_type": "code",
   "execution_count": 22,
   "metadata": {},
   "outputs": [
    {
     "name": "stdout",
     "output_type": "stream",
     "text": [
      "H\n",
      "W\n"
     ]
    }
   ],
   "source": [
    "greet = \"Hello World!\"\n",
    "print(greet[0])     # for the first character use index 0\n",
    "print(\"Hello World!\"[6])"
   ]
  },
  {
   "cell_type": "markdown",
   "metadata": {
    "slideshow": {
     "slide_type": "subslide"
    }
   },
   "source": [
    "### Indexing using a negative number\n",
    "So Python starts counting from 0. How about the last character?"
   ]
  },
  {
   "cell_type": "markdown",
   "metadata": {
    "slideshow": {
     "slide_type": "fragment"
    }
   },
   "source": [
    "\n",
    "Well, you could find out what the length of the string is (with the function `len()`)\n",
    "and use the outcome to fetch the last character:"
   ]
  },
  {
   "cell_type": "code",
   "execution_count": 23,
   "metadata": {},
   "outputs": [
    {
     "name": "stdout",
     "output_type": "stream",
     "text": [
      "!\n"
     ]
    }
   ],
   "source": [
    "greet = \"Hello World!\"\n",
    "n = len(greet)\n",
    "print(greet[n-1])"
   ]
  },
  {
   "cell_type": "markdown",
   "metadata": {
    "slideshow": {
     "slide_type": "fragment"
    }
   },
   "source": [
    "There is an easier way: with a negative index you fetch backwards.<br>\n",
    "- -1 indexes the last character,\n",
    "- -2 next to the last character, etc."
   ]
  },
  {
   "cell_type": "code",
   "execution_count": 24,
   "metadata": {},
   "outputs": [
    {
     "name": "stdout",
     "output_type": "stream",
     "text": [
      "!\n"
     ]
    }
   ],
   "source": [
    "print(greet[-1])"
   ]
  },
  {
   "cell_type": "markdown",
   "metadata": {
    "slideshow": {
     "slide_type": "slide"
    }
   },
   "source": [
    "### Slicing\n",
    "If you want more than just a single character, slicing is what you need.<br>\n",
    "Provide the start and the end index between square brackets:"
   ]
  },
  {
   "cell_type": "code",
   "execution_count": 25,
   "metadata": {},
   "outputs": [
    {
     "name": "stdout",
     "output_type": "stream",
     "text": [
      "Wor\n"
     ]
    }
   ],
   "source": [
    "greet = \"Hello World!\"\n",
    "print(greet[6:9])"
   ]
  },
  {
   "cell_type": "markdown",
   "metadata": {
    "slideshow": {
     "slide_type": "fragment"
    }
   },
   "source": [
    "Observe that the start index is included, but the **end index is not**.\n",
    "\n",
    "You may leave out start, which means *from the beginning until the index*:"
   ]
  },
  {
   "cell_type": "code",
   "execution_count": 26,
   "metadata": {},
   "outputs": [
    {
     "name": "stdout",
     "output_type": "stream",
     "text": [
      "Hello\n"
     ]
    }
   ],
   "source": [
    "print(greet[:5])"
   ]
  },
  {
   "cell_type": "markdown",
   "metadata": {
    "slideshow": {
     "slide_type": "fragment"
    }
   },
   "source": [
    "Likewise, you may leave out the end index, which means *all the way to the end*:"
   ]
  },
  {
   "cell_type": "code",
   "execution_count": 27,
   "metadata": {},
   "outputs": [
    {
     "name": "stdout",
     "output_type": "stream",
     "text": [
      "World!\n"
     ]
    }
   ],
   "source": [
    "print(greet[6:])"
   ]
  },
  {
   "cell_type": "markdown",
   "metadata": {
    "slideshow": {
     "slide_type": "slide"
    }
   },
   "source": [
    "## Container structures\n",
    "Container types - objects that can contain other objects\n",
    "\n",
    "| type  | description |          examples              | content   | properties\n",
    "|:------|:------------|:-------------------------------|:----------|:---------\n",
    "| str   | String      | `'Ni Hao', \"Don't mind\"`       | chars     | immutable, ordered\n",
    "| list  | List        | `[1, 2, 'Peter', 4]`           | any       | mutable, ordered\n",
    "| tuple | Tuple       | `(1, 2, 'ABC', 4, 'U')`        | any       | immutable, ordered\n",
    "| dict  | Dictionary  | `{'John': 1975, 'Mary': 1979}` | any       | mutable, unordered, key-access\n"
   ]
  },
  {
   "cell_type": "markdown",
   "metadata": {
    "slideshow": {
     "slide_type": "subslide"
    }
   },
   "source": [
    "## `list` container type\n",
    "- mutable: replace, add or remove elements\n",
    "- can contain arbitrary objects\n",
    "- order is maintained\n",
    "- use an index or a slice to retrieve elements"
   ]
  },
  {
   "cell_type": "code",
   "execution_count": 28,
   "metadata": {
    "slideshow": {
     "slide_type": "-"
    }
   },
   "outputs": [
    {
     "name": "stdout",
     "output_type": "stream",
     "text": [
      "['Hello', 'first', 2, 3]\n"
     ]
    }
   ],
   "source": [
    "k = [\"Hello\"]            # a list with one string\n",
    "l = [\"first\", 2, 3]      # 3 elements\n",
    "m = k + l                # a list with elements from the previous\n",
    "print(m)"
   ]
  },
  {
   "cell_type": "markdown",
   "metadata": {
    "slideshow": {
     "slide_type": "subslide"
    }
   },
   "source": [
    "### `list` *indexing* and *slicing*\n",
    "Works exactly the same as for strings:\n",
    "\n",
    "The index starts from 0 and ends with *n-1*, with *n* the number of elements."
   ]
  },
  {
   "cell_type": "code",
   "execution_count": 29,
   "metadata": {
    "slideshow": {
     "slide_type": "-"
    }
   },
   "outputs": [
    {
     "name": "stdout",
     "output_type": "stream",
     "text": [
      "3\n"
     ]
    }
   ],
   "source": [
    "primes = [2, 3, 5, 7, 11, 13]   # create a list\n",
    "print(primes[1])                # retrieve the 2nd element"
   ]
  },
  {
   "cell_type": "code",
   "execution_count": 30,
   "metadata": {
    "slideshow": {
     "slide_type": "fragment"
    }
   },
   "outputs": [
    {
     "name": "stdout",
     "output_type": "stream",
     "text": [
      "[2, 3, 5]\n"
     ]
    }
   ],
   "source": [
    "print(primes[0:3])              # retrieve the elements 0, 1 and 2"
   ]
  },
  {
   "cell_type": "code",
   "execution_count": 31,
   "metadata": {
    "slideshow": {
     "slide_type": "fragment"
    }
   },
   "outputs": [
    {
     "name": "stdout",
     "output_type": "stream",
     "text": [
      "[2, 3, 5, 7, 11, 13]\n"
     ]
    }
   ],
   "source": [
    "pp = primes[:]                  # make a copy of primes\n",
    "print(pp)"
   ]
  },
  {
   "cell_type": "code",
   "execution_count": 32,
   "metadata": {
    "slideshow": {
     "slide_type": "fragment"
    }
   },
   "outputs": [
    {
     "name": "stdout",
     "output_type": "stream",
     "text": [
      "yes!\n"
     ]
    }
   ],
   "source": [
    "if 7 in primes:                 # check if 7 is an element of primes\n",
    "    print('yes!')"
   ]
  },
  {
   "cell_type": "markdown",
   "metadata": {
    "slideshow": {
     "slide_type": "slide"
    }
   },
   "source": [
    "### Methods for `list`"
   ]
  },
  {
   "cell_type": "markdown",
   "metadata": {},
   "source": [
    "We have seen a couple of built-in functions already: `print()`, `len()` and `int()`.\n",
    "\n",
    "These functions operate on the arguments you provide.\n",
    "\n",
    "In Python (and other object oriented languages) we also have methods.<br>\n",
    "You call a method differently. An example:"
   ]
  },
  {
   "cell_type": "code",
   "execution_count": 33,
   "metadata": {
    "slideshow": {
     "slide_type": "fragment"
    }
   },
   "outputs": [
    {
     "name": "stdout",
     "output_type": "stream",
     "text": [
      "[2, 3, 5, 7, 11, 13, 17]\n"
     ]
    }
   ],
   "source": [
    "primes = [2, 3, 5, 7, 11, 13]\n",
    "primes.append(17)                   # add 17 at the end\n",
    "print(primes)"
   ]
  },
  {
   "cell_type": "markdown",
   "metadata": {},
   "source": [
    "A method operates on the object (a list in this case), which you do not put between the parentheses,\n",
    "but you put it - separated by a dot (\"`.`\") *before* the method name.\n",
    "\n",
    "The method `.append()` adds a new object to the end of the list."
   ]
  },
  {
   "cell_type": "markdown",
   "metadata": {
    "slideshow": {
     "slide_type": "slide"
    }
   },
   "source": [
    "### Common `list` methods\n",
    "\n",
    "`sort()` sorts the list in-place:"
   ]
  },
  {
   "cell_type": "code",
   "execution_count": 34,
   "metadata": {},
   "outputs": [
    {
     "name": "stdout",
     "output_type": "stream",
     "text": [
      "[-1, 1, 2, 3, 4, 66]\n"
     ]
    }
   ],
   "source": [
    "sample = [1, 4, 2, 66, 3, -1]\n",
    "sample.sort()\n",
    "print(sample)"
   ]
  },
  {
   "cell_type": "markdown",
   "metadata": {
    "slideshow": {
     "slide_type": "fragment"
    }
   },
   "source": [
    "`.reverse()` inverts the list"
   ]
  },
  {
   "cell_type": "code",
   "execution_count": 35,
   "metadata": {},
   "outputs": [
    {
     "name": "stdout",
     "output_type": "stream",
     "text": [
      "[66, 4, 3, 2, 1, -1]\n"
     ]
    }
   ],
   "source": [
    "sample.reverse()\n",
    "print(sample)"
   ]
  },
  {
   "cell_type": "markdown",
   "metadata": {
    "slideshow": {
     "slide_type": "subslide"
    }
   },
   "source": [
    "### Common `list` methods - continued\n",
    "`.pop(idx)` removes element at index `idx` (or the last element if no `idx` given)"
   ]
  },
  {
   "cell_type": "code",
   "execution_count": 36,
   "metadata": {},
   "outputs": [
    {
     "name": "stdout",
     "output_type": "stream",
     "text": [
      "[4, 2, 66, 3, -1]\n",
      "1\n"
     ]
    }
   ],
   "source": [
    "sample = [1, 4, 2, 66, 3, -1]\n",
    "elem = sample.pop(0)    # remove the first element and assign to variable\n",
    "print(sample)\n",
    "print(elem)"
   ]
  },
  {
   "cell_type": "markdown",
   "metadata": {
    "slideshow": {
     "slide_type": "fragment"
    }
   },
   "source": [
    "`.insert(idx, obj)` insert `obj` at index `idx` in the list"
   ]
  },
  {
   "cell_type": "code",
   "execution_count": 37,
   "metadata": {},
   "outputs": [
    {
     "name": "stdout",
     "output_type": "stream",
     "text": [
      "[4, 2, 99, 66, 3, -1]\n"
     ]
    }
   ],
   "source": [
    "sample.insert(2, 99)   # add 99 at index 2\n",
    "print(sample)"
   ]
  },
  {
   "cell_type": "markdown",
   "metadata": {
    "slideshow": {
     "slide_type": "slide"
    }
   },
   "source": [
    "## Lab exercise 3\n",
    "\n",
    "Modify the code block below.<br>\n",
    "The list `sales` is incomplete.\n",
    "Add the string `'boris,95'` to the list and print it."
   ]
  },
  {
   "cell_type": "code",
   "execution_count": 38,
   "metadata": {
    "slideshow": {
     "slide_type": "-"
    }
   },
   "outputs": [
    {
     "name": "stdout",
     "output_type": "stream",
     "text": [
      "Report generated by John Doe\n"
     ]
    }
   ],
   "source": [
    "sales = ['eric,324', 'john,116', 'eric,771', 'jane,893', 'john,162']\n",
    "\n",
    "myname = 'John Doe'\n",
    "print('Report generated by', myname)"
   ]
  },
  {
   "cell_type": "markdown",
   "metadata": {
    "slideshow": {
     "slide_type": "slide"
    }
   },
   "source": [
    "# Control Flow\n",
    "## Statements\n",
    "\n",
    "Python is line oriented: each line is one statement.<br/>\n",
    "Split long statements into multiple lines:\n",
    "- add a backslash (`\\`), just before the line end:\n",
    "``` python\n",
    "    moving_average = first_function(observations) / \\\n",
    "                        second_function(observations, 3)\n",
    "```\n",
    "- construction with parentheses ( `()`, `[]` or `{}`) is allowed over multiple lines:\n",
    "``` python\n",
    "    result = my_function(observations,\n",
    "                         'Description'\n",
    "                          (1, 3, 6))\n",
    "```"
   ]
  },
  {
   "cell_type": "markdown",
   "metadata": {
    "slideshow": {
     "slide_type": "subslide"
    }
   },
   "source": [
    "### Blocks\n",
    "\n",
    "Code blocks are determined by indentation.\n",
    "- Example `if` - statement:\n",
    "``` python\n",
    "    if a < b:\n",
    "        print(\"a is smaller than b\")\n",
    "```\n",
    "- recommended:\n",
    "  * use 4 spaces per indentation level"
   ]
  },
  {
   "cell_type": "markdown",
   "metadata": {
    "slideshow": {
     "slide_type": "slide"
    }
   },
   "source": [
    "### `if` - statement (simplest form)\n",
    "``` python\n",
    "    if condition:\n",
    "        code block\n",
    "```\n",
    "- the `condition`-part must be interpreted as True or False, and end with a colon (\"`:`\")\n",
    "- indented is the block of code executed if condition is True"
   ]
  },
  {
   "cell_type": "code",
   "execution_count": 39,
   "metadata": {
    "slideshow": {
     "slide_type": "fragment"
    }
   },
   "outputs": [],
   "source": [
    "temperature = 3\n",
    "if temperature < 0:\n",
    "    print(\"The water is solid\")"
   ]
  },
  {
   "cell_type": "markdown",
   "metadata": {
    "slideshow": {
     "slide_type": "subslide"
    }
   },
   "source": [
    "### `if` - statement (with an `else` part)\n",
    "``` python\n",
    "    if condition:\n",
    "        code block\n",
    "        \n",
    "    else:\n",
    "        code block\n",
    "        ....\n",
    "```\n",
    "- two blocks of code - only one of them is executed"
   ]
  },
  {
   "cell_type": "code",
   "execution_count": 40,
   "metadata": {
    "slideshow": {
     "slide_type": "fragment"
    }
   },
   "outputs": [
    {
     "name": "stdout",
     "output_type": "stream",
     "text": [
      "The water is not solid\n"
     ]
    }
   ],
   "source": [
    "temperature = 3\n",
    "if temperature < 0:\n",
    "    print(\"The water is solid\")\n",
    "else:\n",
    "    print(\"The water is not solid\")"
   ]
  },
  {
   "cell_type": "markdown",
   "metadata": {
    "slideshow": {
     "slide_type": "subslide"
    }
   },
   "source": [
    "### `if` - statement (with `else` and `elif`)\n",
    "``` python\n",
    "    if condition:\n",
    "        code block\n",
    "        \n",
    "    elif condition:\n",
    "        code block\n",
    "        \n",
    "    else:\n",
    "        code block\n",
    "        ....\n",
    "```\n",
    "- multiple blocks of code - only one of them is executed\n"
   ]
  },
  {
   "cell_type": "code",
   "execution_count": 41,
   "metadata": {
    "slideshow": {
     "slide_type": "fragment"
    }
   },
   "outputs": [
    {
     "name": "stdout",
     "output_type": "stream",
     "text": [
      "The water is liquid\n"
     ]
    }
   ],
   "source": [
    "temperature = 3\n",
    "if temperature < 0:\n",
    "    print(\"The water is solid\")\n",
    "elif temperature > 100:\n",
    "    print(\"The water is gas\")\n",
    "else:\n",
    "    print(\"The water is liquid\")"
   ]
  },
  {
   "cell_type": "markdown",
   "metadata": {
    "slideshow": {
     "slide_type": "subslide"
    }
   },
   "source": [
    "### `while` - loop\n",
    "``` python\n",
    "    while condition:\n",
    "        code block\n",
    "```\n",
    "As long as `condition` is True, the code block is executed."
   ]
  },
  {
   "cell_type": "code",
   "execution_count": 42,
   "metadata": {
    "slideshow": {
     "slide_type": "fragment"
    }
   },
   "outputs": [
    {
     "name": "stdout",
     "output_type": "stream",
     "text": [
      "1\n",
      "2\n",
      "3\n",
      "4\n"
     ]
    }
   ],
   "source": [
    "n = 1\n",
    "\n",
    "while n < 5:\n",
    "    print(n)\n",
    "    n = n + 1"
   ]
  },
  {
   "cell_type": "markdown",
   "metadata": {
    "slideshow": {
     "slide_type": "slide"
    }
   },
   "source": [
    "## Lab exercise 4\n",
    "\n",
    "Modify the code block below.<br>\n",
    "Underline the header line with '-' characters with exactly the\n",
    "size (take 20 for the length of 'Report generated by')"
   ]
  },
  {
   "cell_type": "code",
   "execution_count": 43,
   "metadata": {
    "slideshow": {
     "slide_type": "-"
    }
   },
   "outputs": [
    {
     "name": "stdout",
     "output_type": "stream",
     "text": [
      "Report generated by John Doe\n",
      "['eric,324', 'john,116', 'eric,771', 'jane,893', 'john,162', 'boris,95']\n"
     ]
    }
   ],
   "source": [
    "sales = ['eric,324', 'john,116', 'eric,771', 'jane,893', 'john,162']\n",
    "sales.append('boris,95')\n",
    "\n",
    "myname = 'John Doe'\n",
    "print('Report generated by', myname)\n",
    "\n",
    "print(sales)"
   ]
  },
  {
   "cell_type": "markdown",
   "metadata": {
    "slideshow": {
     "slide_type": "slide"
    }
   },
   "source": [
    "### `for`-loop\n",
    "Do something for all elements in a collection.\n",
    "``` python\n",
    "    for element in collection:\n",
    "        code block\n",
    "```\n",
    "The `for`-loop is use with all collection types.<br/>\n",
    "It works identical for all of them:\n"
   ]
  },
  {
   "cell_type": "code",
   "execution_count": 44,
   "metadata": {
    "slideshow": {
     "slide_type": "-"
    }
   },
   "outputs": [
    {
     "name": "stdout",
     "output_type": "stream",
     "text": [
      "1\n",
      "2\n",
      "4\n"
     ]
    }
   ],
   "source": [
    "l = [1, 2, 4]                             # list\n",
    "for elem in l:\n",
    "    print(elem)"
   ]
  },
  {
   "cell_type": "code",
   "execution_count": 45,
   "metadata": {
    "slideshow": {
     "slide_type": "fragment"
    }
   },
   "outputs": [
    {
     "name": "stdout",
     "output_type": "stream",
     "text": [
      "H\n",
      "e\n",
      "y\n"
     ]
    }
   ],
   "source": [
    "s = \"Hey\"                                 # string\n",
    "for elem in s:\n",
    "    print(elem)\n",
    "    "
   ]
  },
  {
   "cell_type": "markdown",
   "metadata": {
    "slideshow": {
     "slide_type": "slide"
    }
   },
   "source": [
    "### Using `range()` to generate a sequence of numbers\n",
    "\n",
    "Quite often you need to count down (or up).<br>\n",
    "You can use a `while`-loop to achieve that, but `range()` is easier (and more *Pythonic*).\n",
    "\n",
    "`range(stop)` with one argument means start at 0 (zero) and continue upto (not including) `stop`:\n"
   ]
  },
  {
   "cell_type": "code",
   "execution_count": 46,
   "metadata": {
    "slideshow": {
     "slide_type": "fragment"
    }
   },
   "outputs": [
    {
     "name": "stdout",
     "output_type": "stream",
     "text": [
      "0\n",
      "1\n",
      "2\n"
     ]
    }
   ],
   "source": [
    "for elem in range(3):\n",
    "    print(elem)"
   ]
  },
  {
   "cell_type": "markdown",
   "metadata": {},
   "source": [
    "`range(start, stop)` with 2 arguments: start at `start`, until (not including) `stop`"
   ]
  },
  {
   "cell_type": "code",
   "execution_count": 47,
   "metadata": {
    "slideshow": {
     "slide_type": "fragment"
    }
   },
   "outputs": [
    {
     "name": "stdout",
     "output_type": "stream",
     "text": [
      "3\n",
      "4\n",
      "5\n"
     ]
    }
   ],
   "source": [
    "for elem in range(3, 6):\n",
    "    print(elem)"
   ]
  },
  {
   "cell_type": "markdown",
   "metadata": {},
   "source": [
    "`range(start, stop, step)` the third argument is the step-size, which may be negative"
   ]
  },
  {
   "cell_type": "code",
   "execution_count": 48,
   "metadata": {
    "slideshow": {
     "slide_type": "fragment"
    }
   },
   "outputs": [
    {
     "name": "stdout",
     "output_type": "stream",
     "text": [
      "10\n",
      "9\n",
      "8\n"
     ]
    }
   ],
   "source": [
    "for elem in range(10, 7, -1):\n",
    "    print(elem)"
   ]
  },
  {
   "cell_type": "markdown",
   "metadata": {
    "slideshow": {
     "slide_type": "slide"
    }
   },
   "source": [
    "## Lab exercise 5\n",
    "\n",
    "Modify the code block below.<br>\n",
    "Print all elements of the list `sales` using a `for`-loop.\n",
    "What is the datatype of each element?"
   ]
  },
  {
   "cell_type": "code",
   "execution_count": 49,
   "metadata": {
    "slideshow": {
     "slide_type": "-"
    }
   },
   "outputs": [
    {
     "name": "stdout",
     "output_type": "stream",
     "text": [
      "Report generated by John Doe\n",
      "----------------------------\n"
     ]
    }
   ],
   "source": [
    "sales = ['eric,324', 'john,116', 'eric,771', 'jane,893', 'john,162']\n",
    "sales.append('boris,95')\n",
    "\n",
    "myname = 'John Doe'\n",
    "print('Report generated by', myname)\n",
    "\n",
    "headlen = 20 + len(myname)\n",
    "\n",
    "i = 0\n",
    "while i < headlen:\n",
    "     print('-', end='')\n",
    "     i = i + 1\n",
    "\n",
    "print()"
   ]
  },
  {
   "cell_type": "markdown",
   "metadata": {
    "slideshow": {
     "slide_type": "slide"
    }
   },
   "source": [
    "# `str`-methods\n",
    "- Methods are also used for text (type `str`)\n",
    "- `list` and `str` have different methods (methods are type-dependent)\n",
    "\n",
    "### Some common `str`-methods:\n",
    "`.upper()` and `.lower()`:\n"
   ]
  },
  {
   "cell_type": "code",
   "execution_count": 50,
   "metadata": {},
   "outputs": [
    {
     "name": "stdout",
     "output_type": "stream",
     "text": [
      "    HELLO WORLD!    \n"
     ]
    }
   ],
   "source": [
    "greet = \"    Hello World!    \"\n",
    "print(greet.upper())"
   ]
  },
  {
   "cell_type": "markdown",
   "metadata": {
    "slideshow": {
     "slide_type": "fragment"
    }
   },
   "source": [
    "`.strip(chars)` remove certain characters from the beginning and the end of a string (default whitespace)"
   ]
  },
  {
   "cell_type": "code",
   "execution_count": 51,
   "metadata": {},
   "outputs": [
    {
     "name": "stdout",
     "output_type": "stream",
     "text": [
      "Hello World\n"
     ]
    }
   ],
   "source": [
    "print(greet.strip(\" !\"))"
   ]
  },
  {
   "cell_type": "markdown",
   "metadata": {
    "slideshow": {
     "slide_type": "subslide"
    }
   },
   "source": [
    "## `str`-methods - continued\n",
    "`.split(sep)` split a string into a list of words, default is to use whitespace as the split-locations"
   ]
  },
  {
   "cell_type": "code",
   "execution_count": 52,
   "metadata": {},
   "outputs": [
    {
     "name": "stdout",
     "output_type": "stream",
     "text": [
      "['Hello', 'World!']\n"
     ]
    }
   ],
   "source": [
    "greet = \"    Hello World!    \"\n",
    "words = greet.split()\n",
    "print(words)"
   ]
  },
  {
   "cell_type": "markdown",
   "metadata": {},
   "source": [
    "`.join(list_w_strings)` *glues* a list with strings together"
   ]
  },
  {
   "cell_type": "code",
   "execution_count": 53,
   "metadata": {},
   "outputs": [
    {
     "name": "stdout",
     "output_type": "stream",
     "text": [
      "Hello --> World!\n"
     ]
    }
   ],
   "source": [
    "glue = ' --> '\n",
    "sentence = glue.join(words)\n",
    "print(sentence)"
   ]
  },
  {
   "cell_type": "markdown",
   "metadata": {
    "slideshow": {
     "slide_type": "slide"
    }
   },
   "source": [
    "## Lab exercise 6\n",
    "\n",
    "Modify the code block below.<br>\n",
    "Print all elements of the list `sales` again,\n",
    "but now show the name and number of units separately.<br>\n",
    "Take care that we can do calculations with the number of units later on."
   ]
  },
  {
   "cell_type": "code",
   "execution_count": 54,
   "metadata": {
    "slideshow": {
     "slide_type": "-"
    }
   },
   "outputs": [
    {
     "name": "stdout",
     "output_type": "stream",
     "text": [
      "Report generated by John Doe\n",
      "----------------------------\n"
     ]
    }
   ],
   "source": [
    "sales = ['eric,324', 'john,116', 'eric,771', 'jane,893', 'john,162']\n",
    "sales.append('boris,95')\n",
    "\n",
    "myname = 'John Doe'\n",
    "print('Report generated by', myname)\n",
    "\n",
    "headlen = 20 + len(myname)\n",
    "\n",
    "i = 0\n",
    "while i < headlen:\n",
    "     print('-', end='')\n",
    "     i = i + 1\n",
    "\n",
    "print()\n",
    "\n",
    "for item in sales:\n",
    "    ...\n",
    "    # <print(item)>"
   ]
  },
  {
   "cell_type": "markdown",
   "metadata": {
    "slideshow": {
     "slide_type": "subslide"
    }
   },
   "source": [
    "## `dict` container type\n",
    "- mutable: replace, add or remove elements\n",
    "- can contain arbitrary objects\n",
    "- each element is stored with an associated key\n",
    "- key must be unique and immutable\n",
    "- a single element can be retrieved with the key"
   ]
  },
  {
   "cell_type": "code",
   "execution_count": 55,
   "metadata": {
    "slideshow": {
     "slide_type": "fragment"
    }
   },
   "outputs": [
    {
     "name": "stdout",
     "output_type": "stream",
     "text": [
      "6\n"
     ]
    }
   ],
   "source": [
    "d = { 1: 3, \"two\": 6, 3: 0 }   # a dict with keys 1, \"two\" and 3\n",
    "d['googol'] = 10.0 ** 100      # add a big value with key \"googol\"\n",
    "print(d[\"two\"])                # retrieve the value from key \"two\""
   ]
  },
  {
   "cell_type": "code",
   "execution_count": 56,
   "metadata": {
    "slideshow": {
     "slide_type": "fragment"
    }
   },
   "outputs": [
    {
     "name": "stdout",
     "output_type": "stream",
     "text": [
      "Yes\n"
     ]
    }
   ],
   "source": [
    "if 1 in d:                         # d has a key 1\n",
    "    print('Yes')"
   ]
  },
  {
   "cell_type": "code",
   "execution_count": 57,
   "metadata": {
    "slideshow": {
     "slide_type": "fragment"
    }
   },
   "outputs": [
    {
     "name": "stdout",
     "output_type": "stream",
     "text": [
      "{1: 3, 'two': 6, 'googol': 1e+100}\n"
     ]
    }
   ],
   "source": [
    "del d[3]                       # delete the element with key 3\n",
    "print(d)"
   ]
  },
  {
   "cell_type": "markdown",
   "metadata": {
    "slideshow": {
     "slide_type": "subslide"
    }
   },
   "source": [
    "### `for`-loop and `dict`\n",
    "A `for`-loop on a dictionary, actually loops over the *keys*:"
   ]
  },
  {
   "cell_type": "code",
   "execution_count": 58,
   "metadata": {},
   "outputs": [
    {
     "name": "stdout",
     "output_type": "stream",
     "text": [
      "jan\n",
      "feb\n",
      "mar\n",
      "apr\n"
     ]
    }
   ],
   "source": [
    "rain = {'jan': 18, 'feb': 10, 'mar': 12, 'apr': 14}\n",
    "for month in rain:\n",
    "    print(month)"
   ]
  },
  {
   "cell_type": "markdown",
   "metadata": {
    "slideshow": {
     "slide_type": "fragment"
    }
   },
   "source": [
    "If you also want to show the values:"
   ]
  },
  {
   "cell_type": "code",
   "execution_count": 59,
   "metadata": {},
   "outputs": [
    {
     "name": "stdout",
     "output_type": "stream",
     "text": [
      "jan 18\n",
      "feb 10\n",
      "mar 12\n",
      "apr 14\n"
     ]
    }
   ],
   "source": [
    "for month in rain:\n",
    "    print(month, rain[month])"
   ]
  },
  {
   "cell_type": "markdown",
   "metadata": {
    "slideshow": {
     "slide_type": "subslide"
    }
   },
   "source": [
    "### Common `dict` methods:\n",
    "\n",
    "`.values()` retrieve all values in the dictionary:"
   ]
  },
  {
   "cell_type": "code",
   "execution_count": 60,
   "metadata": {},
   "outputs": [
    {
     "name": "stdout",
     "output_type": "stream",
     "text": [
      "[3, 6, 1e+100]\n"
     ]
    }
   ],
   "source": [
    "vals = list(d.values())\n",
    "print(vals)"
   ]
  },
  {
   "cell_type": "markdown",
   "metadata": {},
   "source": [
    "`.copy()` make a copy of the dictionary"
   ]
  },
  {
   "cell_type": "code",
   "execution_count": 61,
   "metadata": {},
   "outputs": [
    {
     "name": "stdout",
     "output_type": "stream",
     "text": [
      "{1: 3, 'two': 6, 'googol': 1e+100}\n"
     ]
    }
   ],
   "source": [
    "dd = d.copy()\n",
    "print(dd)"
   ]
  },
  {
   "cell_type": "markdown",
   "metadata": {},
   "source": [
    "`.pop(key)` remove the element at key `key` and return the value"
   ]
  },
  {
   "cell_type": "code",
   "execution_count": 62,
   "metadata": {},
   "outputs": [
    {
     "name": "stdout",
     "output_type": "stream",
     "text": [
      "6 {1: 3, 'googol': 1e+100}\n"
     ]
    }
   ],
   "source": [
    "val = dd.pop('two')\n",
    "print(val, dd)"
   ]
  },
  {
   "cell_type": "markdown",
   "metadata": {
    "slideshow": {
     "slide_type": "slide"
    }
   },
   "source": [
    "## Lab exercise 7\n",
    "\n",
    "Modify the code block below.<br>\n",
    "Create a dictionary named `totals` and store the number of units per person.<br>\n",
    "Print the dictionary."
   ]
  },
  {
   "cell_type": "code",
   "execution_count": 63,
   "metadata": {
    "slideshow": {
     "slide_type": "-"
    }
   },
   "outputs": [
    {
     "name": "stdout",
     "output_type": "stream",
     "text": [
      "Report generated by John Doe\n",
      "----------------------------\n",
      "eric 324\n",
      "john 116\n",
      "eric 771\n",
      "jane 893\n",
      "john 162\n",
      "boris 95\n"
     ]
    }
   ],
   "source": [
    "sales = ['eric,324', 'john,116', 'eric,771', 'jane,893', 'john,162']\n",
    "sales.append('boris,95')\n",
    "\n",
    "myname = 'John Doe'\n",
    "print('Report generated by', myname)\n",
    "\n",
    "headlen = 20 + len(myname)\n",
    "\n",
    "i = 0\n",
    "while i < headlen:\n",
    "     print('-', end='')\n",
    "     i = i + 1\n",
    "\n",
    "print()\n",
    "\n",
    "for item in sales:\n",
    "     chops = item.split(',')\n",
    "     person = chops[0]       # variable 'person' preferred instead of chops[0]\n",
    "     units  = int(chops[1])  # variable 'units' is an integer\n",
    "     print(person, units)    # <-- remove this line"
   ]
  },
  {
   "cell_type": "markdown",
   "metadata": {
    "slideshow": {
     "slide_type": "subslide"
    }
   },
   "source": [
    "### Exceptions\n",
    "Errors that are not caught (more general: Exceptions) cause a program to crash.\n",
    "``` python\n",
    "   n_items = 0\n",
    "   print(5 / n_items)\n",
    "```\n",
    "```\n",
    "   ---------------------------------------------------------------------------\n",
    "   ZeroDivisionError                         Traceback (most recent call last)\n",
    "   <ipython-input-20-97156f842340> in <module>()\n",
    "         1 n_items = 0\n",
    "   ----> 2 print(5 / n_items)\n",
    "\n",
    "   ZeroDivisionError: division by zero\n",
    "```"
   ]
  },
  {
   "cell_type": "markdown",
   "metadata": {
    "slideshow": {
     "slide_type": "fragment"
    }
   },
   "source": [
    "- Of course, you can be defensive and check everything beforehand...\n",
    "- but there is a more convenient way..."
   ]
  },
  {
   "cell_type": "markdown",
   "metadata": {
    "slideshow": {
     "slide_type": "subslide"
    }
   },
   "source": [
    "### Catch exceptions `try: except:`"
   ]
  },
  {
   "cell_type": "code",
   "execution_count": 64,
   "metadata": {
    "slideshow": {
     "slide_type": "-"
    }
   },
   "outputs": [
    {
     "name": "stdout",
     "output_type": "stream",
     "text": [
      "There where no items\n",
      "This part is always reached\n"
     ]
    }
   ],
   "source": [
    "n_items = 0\n",
    "\n",
    "try:\n",
    "    print(5 / n_items)\n",
    "    print(\"Calculation is ready\")\n",
    "except Exception:\n",
    "    print(\"There where no items\")\n",
    "\n",
    "print(\"This part is always reached\")"
   ]
  },
  {
   "cell_type": "markdown",
   "metadata": {
    "slideshow": {
     "slide_type": "slide"
    }
   },
   "source": [
    "## Lab exercise 8\n",
    "\n",
    "You may have noticed that in the dictionary `totals` in the previous exercise only the last entry for `john` is stored.\n",
    "<br>Modify the code block below to add all units per person.\n",
    "<br>Make sure you code does not crash the first time you add units."
   ]
  },
  {
   "cell_type": "code",
   "execution_count": 65,
   "metadata": {
    "slideshow": {
     "slide_type": "-"
    }
   },
   "outputs": [
    {
     "name": "stdout",
     "output_type": "stream",
     "text": [
      "Report generated by John Doe\n",
      "----------------------------\n",
      "Revenue of eric is 771\n",
      "Revenue of john is 162\n",
      "Revenue of jane is 893\n",
      "Revenue of boris is 95\n"
     ]
    }
   ],
   "source": [
    "sales = ['eric,324', 'john,116', 'eric,771', 'jane,893', 'john,162']\n",
    "sales.append('boris,95')\n",
    "\n",
    "myname = 'John Doe'\n",
    "print('Report generated by', myname)\n",
    "\n",
    "headlen = 20 + len(myname)\n",
    "\n",
    "i = 0\n",
    "while i < headlen:\n",
    "     print('-', end='')\n",
    "     i = i + 1\n",
    "\n",
    "print()\n",
    "\n",
    "totals = {}\n",
    "for item in sales:\n",
    "    chops = item.split(',')\n",
    "    person = chops[0]         # variable 'person' preferred instead of chops[0]\n",
    "    units  = int(chops[1])    # variable 'units' is an integer\n",
    "    totals[person] = units    # <---- add code here to have accumulated units\n",
    "\n",
    "for pers in totals:\n",
    "    print('Revenue of', pers, 'is', totals[pers])"
   ]
  },
  {
   "cell_type": "markdown",
   "metadata": {
    "slideshow": {
     "slide_type": "slide"
    }
   },
   "source": [
    "## File I/O\n",
    "### Opening a file\n",
    "``` python\n",
    "    f = open(fname, mode)\n",
    "```\n",
    "open modes:\n",
    "\n",
    "\n",
    "| Character\t| Description | Remark\n",
    "|-----------|-------------|-------------------------------------------------\n",
    "| '`r`'     | read        | (default) error if file does not exist\n",
    "| '`w`'     | write\t      | truncate the file, create a new one if necessary\n",
    "| '`x`'     | create      | error if the file exists\n",
    "| '`a`'     | append      | create a new file if necessary\n",
    "\n",
    "can be combined with:\n",
    "\n",
    "| Character\t| Description | Remark\n",
    "|-----------|-------------|-------------------------------------------------\n",
    "| '`t`'     | text mode   | (default) uses strings (`\"...\"`)\n",
    "| '`b`'     | binary mode | uses `bytes` objects (`b\"...\"`)\n",
    "| '`+`'     | updating    | reading *and* writing\n"
   ]
  },
  {
   "cell_type": "markdown",
   "metadata": {
    "slideshow": {
     "slide_type": "subslide"
    }
   },
   "source": [
    "### Reading text files"
   ]
  },
  {
   "cell_type": "code",
   "execution_count": 66,
   "metadata": {
    "slideshow": {
     "slide_type": "-"
    }
   },
   "outputs": [
    {
     "name": "stdout",
     "output_type": "stream",
     "text": [
      "The number of words in ../data/story.txt is 166\n"
     ]
    }
   ],
   "source": [
    "import sys\n",
    "\n",
    "fname = \"../data/story.txt\"\n",
    "\n",
    "try:\n",
    "    f = open(fname, \"rt\")              # open-call can fail, so ...\n",
    "except Exception:                      # always protect with try: except:\n",
    "    sys.exit(\"Cannot open \" + fname)   # exit with error message\n",
    "\n",
    "words = 0\n",
    "for line in f:                         # file is like a sequence of lines\n",
    "    words += len(line.split() )        # split() returns the words in the line\n",
    "\n",
    "f.close()                              # don't forget to close the file\n",
    "\n",
    "print(\"The number of words in\", fname, \"is\", words)"
   ]
  },
  {
   "cell_type": "markdown",
   "metadata": {
    "slideshow": {
     "slide_type": "subslide"
    }
   },
   "source": [
    "### Writing text files\n",
    "\n",
    "There is a low-level `write()` function, but it is easier to use `print()` with the `file` argument.\n",
    " "
   ]
  },
  {
   "cell_type": "code",
   "execution_count": 67,
   "metadata": {
    "slideshow": {
     "slide_type": "-"
    }
   },
   "outputs": [],
   "source": [
    "fname = \"../tmp/two_powers.txt\"\n",
    "try:\n",
    "    f = open(fname, \"wt\")\n",
    "except Exception:\n",
    "    sys.exit(\"Cannot create \" + fname)\n",
    "    \n",
    "for n in range(10):\n",
    "    print(n, \":\", 2**n, file=f)\n",
    "    \n",
    "f.close()"
   ]
  },
  {
   "cell_type": "markdown",
   "metadata": {
    "slideshow": {
     "slide_type": "slide"
    }
   },
   "source": [
    "## Lab exercise 9\n",
    "\n",
    "Modify the code block below.<br>\n",
    "Remove the list `sales`and use the file `../data/sales.csv` in the directory to read the revenues.<br>\n",
    "Hint: use a `for`-loop to read the file."
   ]
  },
  {
   "cell_type": "code",
   "execution_count": 68,
   "metadata": {
    "slideshow": {
     "slide_type": "-"
    }
   },
   "outputs": [
    {
     "name": "stdout",
     "output_type": "stream",
     "text": [
      "Report generated by John Doe\n",
      "----------------------------\n",
      "Revenue of eric is 1095\n",
      "Revenue of john is 278\n",
      "Revenue of jane is 893\n",
      "Revenue of boris is 95\n"
     ]
    }
   ],
   "source": [
    "sales = ['eric,324', 'john,116', 'eric,771', 'jane,893', 'john,162']\n",
    "sales.append('boris,95')\n",
    "\n",
    "myname = 'John Doe'\n",
    "print('Report generated by', myname)\n",
    "\n",
    "headlen = 20 + len(myname)\n",
    "\n",
    "i = 0\n",
    "while i < headlen:\n",
    "     print('-', end='')\n",
    "     i = i + 1\n",
    "\n",
    "print()\n",
    "\n",
    "totals = {}\n",
    "for item in sales:\n",
    "    chops = item.split(',')\n",
    "    person = chops[0]         # variable 'person' preferred instead of chops[0]\n",
    "    units  = int(chops[1])    # variable 'units' is an integer\n",
    "    try:\n",
    "        totals[person] = totals[person] + units # fails with 1st reference\n",
    "    except Exception:\n",
    "        totals[person] = units                  # assignment if 1st reference\n",
    "\n",
    "for pers in totals:\n",
    "    print('Revenue of', pers, 'is', totals[pers])"
   ]
  },
  {
   "cell_type": "markdown",
   "metadata": {
    "slideshow": {
     "slide_type": "slide"
    }
   },
   "source": [
    "## Functions\n",
    "Defining a function:\n"
   ]
  },
  {
   "cell_type": "code",
   "execution_count": 69,
   "metadata": {
    "slideshow": {
     "slide_type": "-"
    }
   },
   "outputs": [],
   "source": [
    "def power(base, exponent):\n",
    "    result = base ** exponent\n",
    "    return result"
   ]
  },
  {
   "cell_type": "markdown",
   "metadata": {
    "slideshow": {
     "slide_type": "fragment"
    }
   },
   "source": [
    "Using a function:"
   ]
  },
  {
   "cell_type": "code",
   "execution_count": 70,
   "metadata": {
    "slideshow": {
     "slide_type": "-"
    }
   },
   "outputs": [
    {
     "name": "stdout",
     "output_type": "stream",
     "text": [
      "243\n"
     ]
    }
   ],
   "source": [
    "r = power(3, 5)\n",
    "print(r)"
   ]
  },
  {
   "cell_type": "markdown",
   "metadata": {
    "slideshow": {
     "slide_type": "slide"
    }
   },
   "source": [
    "### Function arguments\n",
    "\n",
    "Calling functies can be in 2 ways:\n",
    "- positional arguments\n",
    "- keyword arguments\n",
    "\n",
    "``` python\n",
    "def power(base, exponent)\n",
    "    result = base ** exponent\n",
    "    return result\n",
    "```\n",
    "Various ways to call:\n",
    "``` python\n",
    "r = power(16, 3)                  # positional arguments\n",
    "r = power(base=16, exponent=3)    # explicitly name (keyword) arguments\n",
    "r = power(exponent=3, base=16)    # not necessary to use them in order\n",
    "```\n",
    "Use good, descriptive names!   "
   ]
  },
  {
   "cell_type": "markdown",
   "metadata": {
    "slideshow": {
     "slide_type": "subslide"
    }
   },
   "source": [
    "### Default function arguments\n",
    "In the definition of a function you can indicate default values for the arguments.\n",
    "``` python\n",
    "def power(base=10, exponent=2):\n",
    "    result = base ** exponent\n",
    "    return result\n",
    "```"
   ]
  },
  {
   "cell_type": "markdown",
   "metadata": {
    "slideshow": {
     "slide_type": "fragment"
    }
   },
   "source": [
    "Now you can call this function in various ways:\n",
    "``` python\n",
    "r = power()            # base=10, exponent=2\n",
    "r = power(12)          # base=12, exponent=2\n",
    "r = power(12, 3)       # base=12, exponent=3\n",
    "```"
   ]
  },
  {
   "cell_type": "markdown",
   "metadata": {
    "slideshow": {
     "slide_type": "fragment"
    }
   },
   "source": [
    "And with keyword arguments:\n",
    "``` python\n",
    "r = power(base=12)      # base=12, exponent=2\n",
    "r = power(exponent=3)   # base=10, exponent=3\n",
    "```"
   ]
  },
  {
   "cell_type": "markdown",
   "metadata": {
    "slideshow": {
     "slide_type": "slide"
    }
   },
   "source": [
    "## Lab exercise 10\n",
    "\n",
    "Modify the code block below.<br>\n",
    "Also show the percentage of the total revenue for each person.<br>\n",
    "Calculate the sum of the units in a function named `calcsum()` and pass the dictionary as\n",
    "argument."
   ]
  },
  {
   "cell_type": "code",
   "execution_count": 71,
   "metadata": {
    "slideshow": {
     "slide_type": "-"
    }
   },
   "outputs": [
    {
     "name": "stdout",
     "output_type": "stream",
     "text": [
      "Report generated by John Doe\n",
      "----------------------------\n",
      "Revenue of eric is 1095\n",
      "Revenue of john is 278\n",
      "Revenue of jane is 893\n",
      "Revenue of boris is 95\n"
     ]
    }
   ],
   "source": [
    "myname = 'John Doe'\n",
    "print('Report generated by', myname)\n",
    "\n",
    "headlen = 20 + len(myname)\n",
    "\n",
    "i = 0\n",
    "while i < headlen:\n",
    "     print('-', end='')\n",
    "     i = i + 1\n",
    "\n",
    "print()\n",
    "\n",
    "sales_f = open('../data/sales.csv', 'rt')\n",
    "\n",
    "totals = {}\n",
    "for item in sales_f:\n",
    "    chops = item.split(',')\n",
    "    person = chops[0]         # variable 'person' preferred instead of chops[0]\n",
    "    units  = int(chops[1])    # variable 'units' is an integer\n",
    "    try:\n",
    "        totals[person] = totals[person] + units # fails with 1st reference to a person\n",
    "    except Exception:\n",
    "        totals[person] = units                  # assignment in case of 1st reference\n",
    "\n",
    "sales_f.close\n",
    "\n",
    "for pers in totals:\n",
    "    print('Revenue of', pers, 'is', totals[pers])"
   ]
  },
  {
   "cell_type": "markdown",
   "metadata": {
    "slideshow": {
     "slide_type": "slide"
    }
   },
   "source": [
    "## Modules\n",
    "\n",
    "Modules allow for:\n",
    "- re-usage of functionality\n",
    "- ease of maintenance\n",
    "\n",
    "and usually contain:\n",
    "- function definitions\n",
    "- variables (often used as constants)\n",
    "- class definitions\n",
    "- *(can also contain runnable code)*"
   ]
  },
  {
   "cell_type": "markdown",
   "metadata": {
    "slideshow": {
     "slide_type": "subslide"
    }
   },
   "source": [
    "The name of the script is the module name with the suffix `.py`.\n",
    "\n",
    "Example `mymod.py`:\n",
    "``` python\n",
    "def power(base=10, exponent=2):\n",
    "    result = base ** exponent\n",
    "    return result\n",
    "```"
   ]
  },
  {
   "cell_type": "markdown",
   "metadata": {
    "slideshow": {
     "slide_type": "subslide"
    }
   },
   "source": [
    "### Using functions from a module\n",
    "#### the `import` statement\n",
    "``` python\n",
    "import mymod\n",
    "\n",
    "res = mymod.power(3, 10)\n",
    "```\n",
    "\n",
    "#### alternative: the `from` ... `import` statement\n",
    "``` python\n",
    "from mymod import power\n",
    "\n",
    "power(3, 10)\n",
    "```\n",
    "In this case you only select the function(s) you need."
   ]
  },
  {
   "cell_type": "markdown",
   "metadata": {
    "slideshow": {
     "slide_type": "subslide"
    }
   },
   "source": [
    "### How are modules found?\n",
    "\n",
    "Python looks for a module in various locations:\n",
    "- the directory where the top-level program lives\n",
    "- each directory in the shell variable PYTHONPATH\n",
    "- the default path (defined during the installation of Python)"
   ]
  },
  {
   "cell_type": "markdown",
   "metadata": {
    "slideshow": {
     "slide_type": "-"
    }
   },
   "source": [
    "On a Windows system you set PYTHONPATH like this:\n",
    "``` shell\n",
    "set PYTHONPATH=C:\\python36\\lib;C:\\Users\\Joop\\PythonLibs```\n",
    "On UNIX / Linux this is:\n",
    "``` shell\n",
    "export PYTHONPATH=/usr/local/lib/python:/home/joop/pythonlibs```"
   ]
  },
  {
   "cell_type": "markdown",
   "metadata": {
    "slideshow": {
     "slide_type": "slide"
    }
   },
   "source": [
    "## Lab exercise 11\n",
    "\n",
    "Modify the code block below.<br>\n",
    "Take out the function `calcsum()` and put it in a module `calc` (a file named `calc.py`).<br>\n",
    "Modify the code to import this module and use the function."
   ]
  },
  {
   "cell_type": "code",
   "execution_count": 72,
   "metadata": {
    "slideshow": {
     "slide_type": "-"
    }
   },
   "outputs": [
    {
     "name": "stdout",
     "output_type": "stream",
     "text": [
      "Report generated by John Doe\n",
      "----------------------------\n",
      "Revenue of eric is 1095 - percentage: 46.37865311308767\n",
      "Revenue of john is 278 - percentage: 11.774671749258788\n",
      "Revenue of jane is 893 - percentage: 37.82295637441762\n",
      "Revenue of boris is 95 - percentage: 4.023718763235917\n"
     ]
    }
   ],
   "source": [
    "def calcsum(dictunit):\n",
    "     tot = 0\n",
    "     for p in dictunit:\n",
    "         tot = tot + dictunit[p]\n",
    "     return tot\n",
    "\n",
    "\n",
    "myname = 'John Doe'\n",
    "print('Report generated by', myname)\n",
    "\n",
    "headlen = 20 + len(myname)\n",
    "\n",
    "i = 0\n",
    "while i < headlen:\n",
    "     print('-', end='')\n",
    "     i = i + 1\n",
    "\n",
    "print()\n",
    "\n",
    "sales_f = open('../data/sales.csv', 'rt')\n",
    "\n",
    "totals = {}\n",
    "for item in sales_f:\n",
    "    chops = item.split(',')\n",
    "    person = chops[0]         # variable 'person' preferred instead of chops[0]\n",
    "    units  = int(chops[1])    # variable 'units' is an integer\n",
    "    try:\n",
    "        totals[person] = totals[person] + units # fails with 1st reference to a person\n",
    "    except Exception:\n",
    "        totals[person] = units                  # assignment in case of 1st reference\n",
    "\n",
    "sales_f.close\n",
    "\n",
    "totunits = calcsum(totals)\n",
    "\n",
    "for pers in totals:\n",
    "     print('Revenue of', pers, 'is', totals[pers], '- percentage:',\n",
    "           totals[pers] * 100 / totunits)"
   ]
  },
  {
   "cell_type": "code",
   "execution_count": null,
   "metadata": {
    "slideshow": {
     "slide_type": "slide"
    }
   },
   "outputs": [],
   "source": []
  }
 ],
 "metadata": {
  "celltoolbar": "Slideshow",
  "kernelspec": {
   "display_name": "Python 3",
   "language": "python",
   "name": "python3"
  },
  "language_info": {
   "codemirror_mode": {
    "name": "ipython",
    "version": 3
   },
   "file_extension": ".py",
   "mimetype": "text/x-python",
   "name": "python",
   "nbconvert_exporter": "python",
   "pygments_lexer": "ipython3",
   "version": "3.7.7"
  },
  "livereveal": {
   "autolaunch": false,
   "overlay": "<div class='atfooter'><p>v0.1[ch02]</p></div><div class='atheader'><h2>Python Basics</h2></div><div><hr class='footerline'/></div><div class='footerlogo'><img src='ATlogo_simpel.svg' alt='at computing'></div>"
  },
  "name": "_merged"
 },
 "nbformat": 4,
 "nbformat_minor": 2
}
